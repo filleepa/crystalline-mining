{
 "cells": [
  {
   "cell_type": "code",
   "execution_count": 2,
   "id": "69494e1f",
   "metadata": {},
   "outputs": [],
   "source": [
    "from collections import defaultdict\n",
    "from gensim import corpora\n",
    "import pandas as pd"
   ]
  },
  {
   "cell_type": "code",
   "execution_count": 3,
   "id": "381be1ff",
   "metadata": {},
   "outputs": [
    {
     "data": {
      "text/html": [
       "<div>\n",
       "<style scoped>\n",
       "    .dataframe tbody tr th:only-of-type {\n",
       "        vertical-align: middle;\n",
       "    }\n",
       "\n",
       "    .dataframe tbody tr th {\n",
       "        vertical-align: top;\n",
       "    }\n",
       "\n",
       "    .dataframe thead th {\n",
       "        text-align: right;\n",
       "    }\n",
       "</style>\n",
       "<table border=\"1\" class=\"dataframe\">\n",
       "  <thead>\n",
       "    <tr style=\"text-align: right;\">\n",
       "      <th></th>\n",
       "      <th>pdf_text</th>\n",
       "      <th>metadata</th>\n",
       "    </tr>\n",
       "  </thead>\n",
       "  <tbody>\n",
       "    <tr>\n",
       "      <th>0</th>\n",
       "      <td>['NATURAL CALCIUM CARBONATE FOR BIOMEDICAL APP...</td>\n",
       "      <td>{'Author': 'ismail - [2010]', 'Creator': 'Micr...</td>\n",
       "    </tr>\n",
       "    <tr>\n",
       "      <th>1</th>\n",
       "      <td>['ProceedingsofMachineLearningResearchLEAVEUNS...</td>\n",
       "      <td>{'Author': '', 'CreationDate': 'D:202404290022...</td>\n",
       "    </tr>\n",
       "    <tr>\n",
       "      <th>2</th>\n",
       "      <td>['Preprint Advances in Chemical Physics Vol. 1...</td>\n",
       "      <td>{'CreationDate': 'D:20060424095709Z', 'ModDate...</td>\n",
       "    </tr>\n",
       "    <tr>\n",
       "      <th>3</th>\n",
       "      <td>['Enhancing Drug-Drug Interaction Extraction f...</td>\n",
       "      <td>{'Author': '', 'CreationDate': 'D:201805160029...</td>\n",
       "    </tr>\n",
       "    <tr>\n",
       "      <th>4</th>\n",
       "      <td>['BERTChem-DDI : Improved Drug-Drug Interactio...</td>\n",
       "      <td>{'Author': '', 'CreationDate': 'D:202012230158...</td>\n",
       "    </tr>\n",
       "  </tbody>\n",
       "</table>\n",
       "</div>"
      ],
      "text/plain": [
       "                                            pdf_text  \\\n",
       "0  ['NATURAL CALCIUM CARBONATE FOR BIOMEDICAL APP...   \n",
       "1  ['ProceedingsofMachineLearningResearchLEAVEUNS...   \n",
       "2  ['Preprint Advances in Chemical Physics Vol. 1...   \n",
       "3  ['Enhancing Drug-Drug Interaction Extraction f...   \n",
       "4  ['BERTChem-DDI : Improved Drug-Drug Interactio...   \n",
       "\n",
       "                                            metadata  \n",
       "0  {'Author': 'ismail - [2010]', 'Creator': 'Micr...  \n",
       "1  {'Author': '', 'CreationDate': 'D:202404290022...  \n",
       "2  {'CreationDate': 'D:20060424095709Z', 'ModDate...  \n",
       "3  {'Author': '', 'CreationDate': 'D:201805160029...  \n",
       "4  {'Author': '', 'CreationDate': 'D:202012230158...  "
      ]
     },
     "execution_count": 3,
     "metadata": {},
     "output_type": "execute_result"
    }
   ],
   "source": [
    "df = pd.read_csv(r\"C:\\Users\\Philippa\\Documents\\GitHub\\crystalline-mining\\extracted_pdf_info.csv\")\n",
    "\n",
    "df.head()"
   ]
  },
  {
   "cell_type": "code",
   "execution_count": null,
   "id": "b9193a9e",
   "metadata": {},
   "outputs": [
    {
     "name": "stdout",
     "output_type": "stream",
     "text": [
      "['this', 'is', 'a', 'test']\n"
     ]
    }
   ],
   "source": [
    "from gensim import corpora, models\n",
    "from gensim.corpora.dictionary import Dictionary\n",
    "from pyLDAvis import gensim_models"
   ]
  },
  {
   "cell_type": "code",
   "execution_count": null,
   "id": "be447eff",
   "metadata": {},
   "outputs": [],
   "source": []
  }
 ],
 "metadata": {
  "kernelspec": {
   "display_name": "base",
   "language": "python",
   "name": "python3"
  },
  "language_info": {
   "codemirror_mode": {
    "name": "ipython",
    "version": 3
   },
   "file_extension": ".py",
   "mimetype": "text/x-python",
   "name": "python",
   "nbconvert_exporter": "python",
   "pygments_lexer": "ipython3",
   "version": "3.12.3"
  }
 },
 "nbformat": 4,
 "nbformat_minor": 5
}
