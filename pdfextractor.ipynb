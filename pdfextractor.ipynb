{
 "cells": [
  {
   "cell_type": "code",
   "execution_count": 1,
   "id": "871a3825",
   "metadata": {},
   "outputs": [],
   "source": [
    "import requests\n",
    "import io\n",
    "import pandas as pd "
   ]
  },
  {
   "cell_type": "code",
   "execution_count": 2,
   "id": "86e43939",
   "metadata": {},
   "outputs": [
    {
     "data": {
      "text/html": [
       "<div>\n",
       "<style scoped>\n",
       "    .dataframe tbody tr th:only-of-type {\n",
       "        vertical-align: middle;\n",
       "    }\n",
       "\n",
       "    .dataframe tbody tr th {\n",
       "        vertical-align: top;\n",
       "    }\n",
       "\n",
       "    .dataframe thead th {\n",
       "        text-align: right;\n",
       "    }\n",
       "</style>\n",
       "<table border=\"1\" class=\"dataframe\">\n",
       "  <thead>\n",
       "    <tr style=\"text-align: right;\">\n",
       "      <th></th>\n",
       "      <th>arxiv id</th>\n",
       "      <th>title</th>\n",
       "      <th>published</th>\n",
       "      <th>author(s)</th>\n",
       "      <th>abs link</th>\n",
       "      <th>pdf link</th>\n",
       "      <th>journal ref</th>\n",
       "      <th>comment</th>\n",
       "      <th>abstract</th>\n",
       "    </tr>\n",
       "  </thead>\n",
       "  <tbody>\n",
       "    <tr>\n",
       "      <th>0</th>\n",
       "      <td>1606.07779v1</td>\n",
       "      <td>Natural calcium carbonate for biomedical appli...</td>\n",
       "      <td>2016-06-23T13:01:43Z</td>\n",
       "      <td>Sonali S. Sali</td>\n",
       "      <td>http://arxiv.org/abs/1606.07779v1</td>\n",
       "      <td>http://arxiv.org/pdf/1606.07779v1</td>\n",
       "      <td>No journal ref found</td>\n",
       "      <td>M.Tech (Biotechnology) Dissertation Thesis pro...</td>\n",
       "      <td>Sea shells are found to be a very rich natural...</td>\n",
       "    </tr>\n",
       "    <tr>\n",
       "      <th>1</th>\n",
       "      <td>2208.06361v1</td>\n",
       "      <td>Hyperbolic Molecular Representation Learning f...</td>\n",
       "      <td>2022-07-06T20:20:29Z</td>\n",
       "      <td>Ke Yu, Shyam Visweswaran, Kayhan Batmanghelich</td>\n",
       "      <td>http://arxiv.org/abs/2208.06361v1</td>\n",
       "      <td>http://arxiv.org/pdf/2208.06361v1</td>\n",
       "      <td>No journal ref found</td>\n",
       "      <td>Accepted by NeurIPS workshop 2020. arXiv admin...</td>\n",
       "      <td>Learning accurate drug representations is esse...</td>\n",
       "    </tr>\n",
       "    <tr>\n",
       "      <th>2</th>\n",
       "      <td>2409.11712v1</td>\n",
       "      <td>Revolutionizing Pharmaceutical Manufacturing: ...</td>\n",
       "      <td>2024-09-18T05:35:58Z</td>\n",
       "      <td>Rahul Kumar, Vikram Singh, Priya Gupta</td>\n",
       "      <td>http://arxiv.org/abs/2409.11712v1</td>\n",
       "      <td>http://arxiv.org/pdf/2409.11712v1</td>\n",
       "      <td>No journal ref found</td>\n",
       "      <td>submitted to IMECE 2024</td>\n",
       "      <td>The advent of 3D printing has transformed the ...</td>\n",
       "    </tr>\n",
       "    <tr>\n",
       "      <th>3</th>\n",
       "      <td>2006.00986v1</td>\n",
       "      <td>Semi-Supervised Hierarchical Drug Embedding in...</td>\n",
       "      <td>2020-06-01T14:46:31Z</td>\n",
       "      <td>Ke Yu, Shyam Visweswaran, Kayhan Batmanghelich</td>\n",
       "      <td>http://arxiv.org/abs/2006.00986v1</td>\n",
       "      <td>http://arxiv.org/pdf/2006.00986v1</td>\n",
       "      <td>No journal ref found</td>\n",
       "      <td>No comment found</td>\n",
       "      <td>Learning accurate drug representation is essen...</td>\n",
       "    </tr>\n",
       "    <tr>\n",
       "      <th>4</th>\n",
       "      <td>1801.07691v2</td>\n",
       "      <td>Drug Selection via Joint Push and Learning to ...</td>\n",
       "      <td>2018-01-23T18:26:54Z</td>\n",
       "      <td>Yicheng He, Junfeng Liu, Xia Ning</td>\n",
       "      <td>http://arxiv.org/abs/1801.07691v2</td>\n",
       "      <td>http://arxiv.org/pdf/1801.07691v2</td>\n",
       "      <td>IEEE/ACM Transactions on Computational Biology...</td>\n",
       "      <td>No comment found</td>\n",
       "      <td>Selecting the right drugs for the right patien...</td>\n",
       "    </tr>\n",
       "  </tbody>\n",
       "</table>\n",
       "</div>"
      ],
      "text/plain": [
       "       arxiv id                                              title  \\\n",
       "0  1606.07779v1  Natural calcium carbonate for biomedical appli...   \n",
       "1  2208.06361v1  Hyperbolic Molecular Representation Learning f...   \n",
       "2  2409.11712v1  Revolutionizing Pharmaceutical Manufacturing: ...   \n",
       "3  2006.00986v1  Semi-Supervised Hierarchical Drug Embedding in...   \n",
       "4  1801.07691v2  Drug Selection via Joint Push and Learning to ...   \n",
       "\n",
       "              published                                       author(s)  \\\n",
       "0  2016-06-23T13:01:43Z                                  Sonali S. Sali   \n",
       "1  2022-07-06T20:20:29Z  Ke Yu, Shyam Visweswaran, Kayhan Batmanghelich   \n",
       "2  2024-09-18T05:35:58Z          Rahul Kumar, Vikram Singh, Priya Gupta   \n",
       "3  2020-06-01T14:46:31Z  Ke Yu, Shyam Visweswaran, Kayhan Batmanghelich   \n",
       "4  2018-01-23T18:26:54Z               Yicheng He, Junfeng Liu, Xia Ning   \n",
       "\n",
       "                            abs link                           pdf link  \\\n",
       "0  http://arxiv.org/abs/1606.07779v1  http://arxiv.org/pdf/1606.07779v1   \n",
       "1  http://arxiv.org/abs/2208.06361v1  http://arxiv.org/pdf/2208.06361v1   \n",
       "2  http://arxiv.org/abs/2409.11712v1  http://arxiv.org/pdf/2409.11712v1   \n",
       "3  http://arxiv.org/abs/2006.00986v1  http://arxiv.org/pdf/2006.00986v1   \n",
       "4  http://arxiv.org/abs/1801.07691v2  http://arxiv.org/pdf/1801.07691v2   \n",
       "\n",
       "                                         journal ref  \\\n",
       "0                               No journal ref found   \n",
       "1                               No journal ref found   \n",
       "2                               No journal ref found   \n",
       "3                               No journal ref found   \n",
       "4  IEEE/ACM Transactions on Computational Biology...   \n",
       "\n",
       "                                             comment  \\\n",
       "0  M.Tech (Biotechnology) Dissertation Thesis pro...   \n",
       "1  Accepted by NeurIPS workshop 2020. arXiv admin...   \n",
       "2                            submitted to IMECE 2024   \n",
       "3                                   No comment found   \n",
       "4                                   No comment found   \n",
       "\n",
       "                                            abstract  \n",
       "0  Sea shells are found to be a very rich natural...  \n",
       "1  Learning accurate drug representations is esse...  \n",
       "2  The advent of 3D printing has transformed the ...  \n",
       "3  Learning accurate drug representation is essen...  \n",
       "4  Selecting the right drugs for the right patien...  "
      ]
     },
     "execution_count": 2,
     "metadata": {},
     "output_type": "execute_result"
    }
   ],
   "source": [
    "df = pd.read_csv(r\"C:\\Users\\Philippa\\Documents\\GitHub\\crystalline-mining\\scraped_papers.csv\")\n",
    "\n",
    "df.head()"
   ]
  },
  {
   "cell_type": "code",
   "execution_count": 3,
   "id": "1cb081c7",
   "metadata": {},
   "outputs": [
    {
     "name": "stdout",
     "output_type": "stream",
     "text": [
      "['http://arxiv.org/pdf/1606.07779v1', 'http://arxiv.org/pdf/2208.06361v1', 'http://arxiv.org/pdf/2409.11712v1', 'http://arxiv.org/pdf/2006.00986v1', 'http://arxiv.org/pdf/1801.07691v2', 'http://arxiv.org/pdf/2007.07886v2', 'http://arxiv.org/pdf/1912.03702v1', 'http://arxiv.org/pdf/2404.03516v1', 'http://arxiv.org/pdf/2205.11285v1', 'http://arxiv.org/pdf/2210.00802v3', 'http://arxiv.org/pdf/1711.04402v1', 'http://arxiv.org/pdf/1805.05593v1', 'http://arxiv.org/pdf/2012.11599v1', 'http://arxiv.org/pdf/2308.13891v1', 'http://arxiv.org/pdf/2006.14002v1', 'http://arxiv.org/pdf/1511.04431v1', 'http://arxiv.org/pdf/1904.00313v1', 'http://arxiv.org/pdf/2405.14545v1', 'http://arxiv.org/pdf/2506.01478v1', 'http://arxiv.org/pdf/2110.11523v1', 'http://arxiv.org/pdf/2005.10644v1', 'http://arxiv.org/pdf/2307.01507v2', 'http://arxiv.org/pdf/1905.06237v1', 'http://arxiv.org/pdf/2107.06773v2', 'http://arxiv.org/pdf/1911.06356v2', 'http://arxiv.org/pdf/1908.10563v1', 'http://arxiv.org/pdf/2411.01422v1', 'http://arxiv.org/pdf/2502.08975v2', 'http://arxiv.org/pdf/2212.00213v1', 'http://arxiv.org/pdf/2407.10452v1', 'http://arxiv.org/pdf/1312.3571v1', 'http://arxiv.org/pdf/2202.06635v1', 'http://arxiv.org/pdf/2311.09264v1', 'http://arxiv.org/pdf/2503.01376v1', 'http://arxiv.org/pdf/2409.04737v1', 'http://arxiv.org/pdf/1507.08408v1', 'http://arxiv.org/pdf/2108.06338v1', 'http://arxiv.org/pdf/2302.08680v1', 'http://arxiv.org/pdf/2306.17771v1', 'http://arxiv.org/pdf/2103.10916v1', 'http://arxiv.org/pdf/2302.10168v1', 'http://arxiv.org/pdf/2305.03925v3', 'http://arxiv.org/pdf/2006.09747v1', 'http://arxiv.org/pdf/2307.00859v4', 'http://arxiv.org/pdf/2104.11674v1', 'http://arxiv.org/pdf/2503.08075v1', 'http://arxiv.org/pdf/2207.04502v2', 'http://arxiv.org/pdf/2410.17270v2', 'http://arxiv.org/pdf/2103.13662v1', 'http://arxiv.org/pdf/1712.07038v1', 'http://arxiv.org/pdf/2305.14190v2', 'http://arxiv.org/pdf/1512.04967v1', 'http://arxiv.org/pdf/2104.15016v1', 'http://arxiv.org/pdf/2506.11456v1', 'http://arxiv.org/pdf/1806.07477v1', 'http://arxiv.org/pdf/1907.11911v1', 'http://arxiv.org/pdf/2208.11267v2', 'http://arxiv.org/pdf/2406.01410v1', 'http://arxiv.org/pdf/1802.06404v2', 'http://arxiv.org/pdf/2503.13322v1', 'http://arxiv.org/pdf/1811.00208v1', 'http://arxiv.org/pdf/2503.02781v1', 'http://arxiv.org/pdf/1811.07693v1', 'http://arxiv.org/pdf/2105.05937v1', 'http://arxiv.org/pdf/2309.09355v3', 'http://arxiv.org/pdf/2501.08572v1', 'http://arxiv.org/pdf/2112.11319v1', 'http://arxiv.org/pdf/0711.1568v1', 'http://arxiv.org/pdf/1811.07054v1', 'http://arxiv.org/pdf/2004.07782v2', 'http://arxiv.org/pdf/2001.03058v1', 'http://arxiv.org/pdf/2107.02467v1', 'http://arxiv.org/pdf/2207.04457v1', 'http://arxiv.org/pdf/2412.19589v1', 'http://arxiv.org/pdf/2111.05708v2', 'http://arxiv.org/pdf/2212.10714v1', 'http://arxiv.org/pdf/1910.02107v2', 'http://arxiv.org/pdf/2007.10261v1', 'http://arxiv.org/pdf/2010.11711v3', 'http://arxiv.org/pdf/2403.12984v2', 'http://arxiv.org/pdf/2503.23550v1', 'http://arxiv.org/pdf/2505.20218v1', 'http://arxiv.org/pdf/1210.0330v3', 'http://arxiv.org/pdf/0904.2749v1', 'http://arxiv.org/pdf/2206.13473v1', 'http://arxiv.org/pdf/1705.05183v2', 'http://arxiv.org/pdf/2105.02711v2', 'http://arxiv.org/pdf/2406.01651v3', 'http://arxiv.org/pdf/2210.11250v1', 'http://arxiv.org/pdf/2212.10788v2', 'http://arxiv.org/pdf/2211.16871v1', 'http://arxiv.org/pdf/2309.12906v1', 'http://arxiv.org/pdf/2107.02905v2', 'http://arxiv.org/pdf/1906.04072v3', 'http://arxiv.org/pdf/2012.12325v3', 'http://arxiv.org/pdf/2203.11458v1', 'http://arxiv.org/pdf/2209.09941v3', 'http://arxiv.org/pdf/2303.10312v3', 'http://arxiv.org/pdf/2305.18090v1', 'http://arxiv.org/pdf/2312.00189v1', 'http://arxiv.org/pdf/2502.15346v1', 'http://arxiv.org/pdf/2006.03735v1', 'http://arxiv.org/pdf/2209.06158v1', 'http://arxiv.org/pdf/2411.04747v1', 'http://arxiv.org/pdf/2104.08474v1', 'http://arxiv.org/pdf/2212.13295v1', 'http://arxiv.org/pdf/2006.06910v2', 'http://arxiv.org/pdf/2310.15211v2', 'http://arxiv.org/pdf/2202.08147v1', 'http://arxiv.org/pdf/2210.17401v2', 'http://arxiv.org/pdf/2301.05931v1', 'http://arxiv.org/pdf/1905.07464v1', 'http://arxiv.org/pdf/1812.11178v1', 'http://arxiv.org/pdf/2105.13928v2', 'http://arxiv.org/pdf/2211.06148v1', 'http://arxiv.org/pdf/2303.16172v1', 'http://arxiv.org/pdf/2310.13725v2', 'http://arxiv.org/pdf/2501.18104v1', 'http://arxiv.org/pdf/1902.04996v3', 'http://arxiv.org/pdf/1701.00326v1', 'http://arxiv.org/pdf/1904.01652v1', 'http://arxiv.org/pdf/2004.12219v2', 'http://arxiv.org/pdf/2204.01422v1', 'http://arxiv.org/pdf/1702.01239v1', 'http://arxiv.org/pdf/1905.00534v1', 'http://arxiv.org/pdf/2407.10055v1', 'http://arxiv.org/pdf/2408.09106v3', 'http://arxiv.org/pdf/2402.17278v1', 'http://arxiv.org/pdf/1811.09714v1', 'http://arxiv.org/pdf/2502.05107v1', 'http://arxiv.org/pdf/1404.3435v1', 'http://arxiv.org/pdf/2309.10016v2', 'http://arxiv.org/pdf/1911.04712v1', 'http://arxiv.org/pdf/2212.01016v1', 'http://arxiv.org/pdf/2308.11724v2', 'http://arxiv.org/pdf/2310.17580v1', 'http://arxiv.org/pdf/2501.00086v1', 'http://arxiv.org/pdf/1909.02665v1', 'http://arxiv.org/pdf/2107.14565v1', 'http://arxiv.org/pdf/2003.04524v1', 'http://arxiv.org/pdf/2502.07237v1', 'http://arxiv.org/pdf/1312.7734v2', 'http://arxiv.org/pdf/2104.13146v1', 'http://arxiv.org/pdf/2301.00167v1', 'http://arxiv.org/pdf/1711.00150v1', 'http://arxiv.org/pdf/2004.07086v1', 'http://arxiv.org/pdf/2101.12547v1', 'http://arxiv.org/pdf/2006.05092v1', 'http://arxiv.org/pdf/2110.15087v3', 'http://arxiv.org/pdf/2404.06691v1', 'http://arxiv.org/pdf/2503.01900v1', 'http://arxiv.org/pdf/2504.08328v1', 'http://arxiv.org/pdf/2108.13051v1', 'http://arxiv.org/pdf/2309.03907v1', 'http://arxiv.org/pdf/2309.16593v1', 'http://arxiv.org/pdf/2408.06367v1', 'http://arxiv.org/pdf/2410.20688v2', 'http://arxiv.org/pdf/2501.16391v2', 'http://arxiv.org/pdf/2502.17784v1', 'http://arxiv.org/pdf/2004.06447v1', 'http://arxiv.org/pdf/2401.08148v1', 'http://arxiv.org/pdf/2407.19724v1', 'http://arxiv.org/pdf/1911.06446v2', 'http://arxiv.org/pdf/2411.14157v1', 'http://arxiv.org/pdf/2305.13997v1', 'http://arxiv.org/pdf/2206.02970v2', 'http://arxiv.org/pdf/1308.3402v1', 'http://arxiv.org/pdf/2211.03208v1', 'http://arxiv.org/pdf/2503.03989v1', 'http://arxiv.org/pdf/2505.10545v1', 'http://arxiv.org/pdf/2306.05257v1', 'http://arxiv.org/pdf/2402.11472v5', 'http://arxiv.org/pdf/2403.17210v2', 'http://arxiv.org/pdf/2404.19230v1', 'http://arxiv.org/pdf/2503.10970v1', 'http://arxiv.org/pdf/2504.02014v1', 'http://arxiv.org/pdf/1212.0504v3', 'http://arxiv.org/pdf/1701.05210v1', 'http://arxiv.org/pdf/2008.09000v1', 'http://arxiv.org/pdf/2403.07902v1', 'http://arxiv.org/pdf/2406.08649v2', 'http://arxiv.org/pdf/1707.00994v1', 'http://arxiv.org/pdf/1801.10193v2', 'http://arxiv.org/pdf/1908.07209v4', 'http://arxiv.org/pdf/2004.05487v1', 'http://arxiv.org/pdf/2003.14360v1', 'http://arxiv.org/pdf/2105.07224v2', 'http://arxiv.org/pdf/2401.14172v2', 'http://arxiv.org/pdf/2410.12249v1', 'http://arxiv.org/pdf/2504.18367v1', 'http://arxiv.org/pdf/2505.06949v1', 'http://arxiv.org/pdf/2411.14726v1', 'http://arxiv.org/pdf/2101.05899v3', 'http://arxiv.org/pdf/2302.08261v3', 'http://arxiv.org/pdf/2406.08511v1', 'http://arxiv.org/pdf/2105.05220v1', 'http://arxiv.org/pdf/cond-mat/0101229v1', 'http://arxiv.org/pdf/1712.07449v2', 'http://arxiv.org/pdf/2004.10233v5', 'http://arxiv.org/pdf/2102.04977v1', 'http://arxiv.org/pdf/1611.09881v1', 'http://arxiv.org/pdf/2012.05716v2', 'http://arxiv.org/pdf/2201.01735v1', 'http://arxiv.org/pdf/2201.04437v2', 'http://arxiv.org/pdf/2210.13238v1', 'http://arxiv.org/pdf/2212.03911v1', 'http://arxiv.org/pdf/2212.12560v1', 'http://arxiv.org/pdf/2312.13944v1', 'http://arxiv.org/pdf/2406.01650v1', 'http://arxiv.org/pdf/2504.14361v2', 'http://arxiv.org/pdf/2505.00169v2', 'http://arxiv.org/pdf/2505.07821v1', 'http://arxiv.org/pdf/2506.06915v1', 'http://arxiv.org/pdf/2309.03227v2', 'http://arxiv.org/pdf/1111.1228v1', 'http://arxiv.org/pdf/2407.02126v1', 'http://arxiv.org/pdf/2505.04648v1', 'http://arxiv.org/pdf/2301.13787v1', 'http://arxiv.org/pdf/2404.10561v1', 'http://arxiv.org/pdf/2405.11785v3', 'http://arxiv.org/pdf/1710.03655v1', 'http://arxiv.org/pdf/1812.10602v1', 'http://arxiv.org/pdf/2309.03649v1', 'http://arxiv.org/pdf/2401.07657v1', 'http://arxiv.org/pdf/2111.03931v1', 'http://arxiv.org/pdf/2007.01902v2', 'http://arxiv.org/pdf/2407.07930v2', 'http://arxiv.org/pdf/1703.08510v1', 'http://arxiv.org/pdf/1712.03739v1', 'http://arxiv.org/pdf/1806.07174v3', 'http://arxiv.org/pdf/1911.07022v1', 'http://arxiv.org/pdf/2101.10900v1', 'http://arxiv.org/pdf/2011.02971v1', 'http://arxiv.org/pdf/2012.09627v3', 'http://arxiv.org/pdf/2304.08194v1', 'http://arxiv.org/pdf/2305.09481v1', 'http://arxiv.org/pdf/2306.08907v1', 'http://arxiv.org/pdf/2408.12139v2', 'http://arxiv.org/pdf/2502.06890v1', 'http://arxiv.org/pdf/2503.22164v2', 'http://arxiv.org/pdf/2505.11529v1', 'http://arxiv.org/pdf/1912.03578v1', 'http://arxiv.org/pdf/2210.04893v1', 'http://arxiv.org/pdf/2305.01523v2', 'http://arxiv.org/pdf/2503.13352v2', 'http://arxiv.org/pdf/2504.13853v1', 'http://arxiv.org/pdf/2202.04202v3', 'http://arxiv.org/pdf/2408.01869v1', 'http://arxiv.org/pdf/2003.13902v2', 'http://arxiv.org/pdf/2203.10446v2', 'http://arxiv.org/pdf/2209.07405v1', 'http://arxiv.org/pdf/2406.17697v1', 'http://arxiv.org/pdf/2411.15418v2', 'http://arxiv.org/pdf/1708.08974v1', 'http://arxiv.org/pdf/2004.11424v1', 'http://arxiv.org/pdf/2108.11644v3', 'http://arxiv.org/pdf/2205.07249v1', 'http://arxiv.org/pdf/2406.10867v1', 'http://arxiv.org/pdf/2412.19812v2', 'http://arxiv.org/pdf/2502.06027v1', 'http://arxiv.org/pdf/1312.6237v1', 'http://arxiv.org/pdf/2012.09624v1', 'http://arxiv.org/pdf/2112.11439v1', 'http://arxiv.org/pdf/2308.02172v1', 'http://arxiv.org/pdf/2502.13344v3', 'http://arxiv.org/pdf/2409.07377v2', 'http://arxiv.org/pdf/1203.3315v1', 'http://arxiv.org/pdf/1609.05462v1', 'http://arxiv.org/pdf/1701.01329v1', 'http://arxiv.org/pdf/1706.05549v1', 'http://arxiv.org/pdf/1709.03309v1', 'http://arxiv.org/pdf/1811.09610v1', 'http://arxiv.org/pdf/1908.00654v1', 'http://arxiv.org/pdf/1909.06609v2', 'http://arxiv.org/pdf/2003.12400v1', 'http://arxiv.org/pdf/2008.11804v2', 'http://arxiv.org/pdf/2105.10489v1', 'http://arxiv.org/pdf/2210.11482v1', 'http://arxiv.org/pdf/2306.02206v2', 'http://arxiv.org/pdf/2308.11890v3', 'http://arxiv.org/pdf/2309.14452v1', 'http://arxiv.org/pdf/2311.16208v2', 'http://arxiv.org/pdf/2312.00718v1', 'http://arxiv.org/pdf/2404.12827v3', 'http://arxiv.org/pdf/2405.20203v2', 'http://arxiv.org/pdf/2408.05696v1', 'http://arxiv.org/pdf/2408.17129v2', 'http://arxiv.org/pdf/2409.09702v1', 'http://arxiv.org/pdf/2410.02718v2', 'http://arxiv.org/pdf/1709.04782v1', 'http://arxiv.org/pdf/2007.00621v2', 'http://arxiv.org/pdf/2408.00040v3', 'http://arxiv.org/pdf/2410.20660v2', 'http://arxiv.org/pdf/2412.06847v2', 'http://arxiv.org/pdf/2412.19815v1', 'http://arxiv.org/pdf/2409.19645v1', 'http://arxiv.org/pdf/2310.03223v6', 'http://arxiv.org/pdf/2503.04362v1', 'http://arxiv.org/pdf/2403.19844v1', 'http://arxiv.org/pdf/1706.01876v2', 'http://arxiv.org/pdf/2111.08008v4', 'http://arxiv.org/pdf/2101.05377v1', 'http://arxiv.org/pdf/2006.06523v1', 'http://arxiv.org/pdf/2211.13979v3', 'http://arxiv.org/pdf/2303.06033v1', 'http://arxiv.org/pdf/2311.12670v2', 'http://arxiv.org/pdf/2312.17506v2', 'http://arxiv.org/pdf/2012.10527v1', 'http://arxiv.org/pdf/2304.12436v1', 'http://arxiv.org/pdf/2111.04107v1', 'http://arxiv.org/pdf/2404.02003v2', 'http://arxiv.org/pdf/2410.03138v2', 'http://arxiv.org/pdf/2004.01215v2', 'http://arxiv.org/pdf/2210.13695v3', 'http://arxiv.org/pdf/2107.06099v1', 'http://arxiv.org/pdf/2205.10423v1', 'http://arxiv.org/pdf/2211.16508v1', 'http://arxiv.org/pdf/2407.04055v1', 'http://arxiv.org/pdf/1510.02855v1', 'http://arxiv.org/pdf/1905.00095v2', 'http://arxiv.org/pdf/2408.11356v1', 'http://arxiv.org/pdf/1704.06225v1', 'http://arxiv.org/pdf/1707.09506v2', 'http://arxiv.org/pdf/2008.07350v1', 'http://arxiv.org/pdf/2308.07416v1', 'http://arxiv.org/pdf/2202.03953v1', 'http://arxiv.org/pdf/2208.06360v2', 'http://arxiv.org/pdf/2312.06682v2', 'http://arxiv.org/pdf/2404.07102v3', 'http://arxiv.org/pdf/1911.00930v1', 'http://arxiv.org/pdf/2010.08687v3', 'http://arxiv.org/pdf/2108.09926v2', 'http://arxiv.org/pdf/2110.06241v1', 'http://arxiv.org/pdf/2311.12035v1', 'http://arxiv.org/pdf/2311.12814v1', 'http://arxiv.org/pdf/2406.03403v1', 'http://arxiv.org/pdf/2409.10584v2', 'http://arxiv.org/pdf/2410.16975v1', 'http://arxiv.org/pdf/2411.12886v1', 'http://arxiv.org/pdf/1610.06921v1', 'http://arxiv.org/pdf/2007.00523v2', 'http://arxiv.org/pdf/2108.05183v1', 'http://arxiv.org/pdf/2211.02891v1', 'http://arxiv.org/pdf/2410.10108v1', 'http://arxiv.org/pdf/2503.20639v2', 'http://arxiv.org/pdf/1002.3128v3', 'http://arxiv.org/pdf/1407.4436v1', 'http://arxiv.org/pdf/1712.10128v2', 'http://arxiv.org/pdf/1904.08144v1', 'http://arxiv.org/pdf/2112.14390v1', 'http://arxiv.org/pdf/2207.00821v1', 'http://arxiv.org/pdf/2301.00984v2', 'http://arxiv.org/pdf/2304.10946v1', 'http://arxiv.org/pdf/2405.06642v4', 'http://arxiv.org/pdf/2405.11703v1', 'http://arxiv.org/pdf/2409.09183v1', 'http://arxiv.org/pdf/2412.15086v1', 'http://arxiv.org/pdf/2412.19422v2', 'http://arxiv.org/pdf/2502.11711v2', 'http://arxiv.org/pdf/2503.00975v1', 'http://arxiv.org/pdf/2503.20913v1', 'http://arxiv.org/pdf/2505.07876v1', 'http://arxiv.org/pdf/2312.11526v1', 'http://arxiv.org/pdf/q-bio/0611053v1', 'http://arxiv.org/pdf/2101.03438v1', 'http://arxiv.org/pdf/2303.17615v2', 'http://arxiv.org/pdf/2412.07778v1', 'http://arxiv.org/pdf/2505.00530v1', 'http://arxiv.org/pdf/1112.6015v1', 'http://arxiv.org/pdf/1906.02101v2', 'http://arxiv.org/pdf/0907.4956v1', 'http://arxiv.org/pdf/2101.10831v1', 'http://arxiv.org/pdf/1912.04345v1', 'http://arxiv.org/pdf/2008.03340v1', 'http://arxiv.org/pdf/2009.02241v1', 'http://arxiv.org/pdf/2106.04377v1', 'http://arxiv.org/pdf/2107.00367v2', 'http://arxiv.org/pdf/2112.08366v2', 'http://arxiv.org/pdf/2205.02944v2', 'http://arxiv.org/pdf/2302.00587v1', 'http://arxiv.org/pdf/2306.17246v1', 'http://arxiv.org/pdf/2310.15572v1', 'http://arxiv.org/pdf/2312.03475v1', 'http://arxiv.org/pdf/2405.06690v1', 'http://arxiv.org/pdf/2406.08980v1', 'http://arxiv.org/pdf/2407.07357v2', 'http://arxiv.org/pdf/2407.18919v1', 'http://arxiv.org/pdf/2411.00004v1', 'http://arxiv.org/pdf/2411.00801v1', 'http://arxiv.org/pdf/2411.02416v1', 'http://arxiv.org/pdf/2411.03460v1', 'http://arxiv.org/pdf/2411.04130v2', 'http://arxiv.org/pdf/2411.06539v1', 'http://arxiv.org/pdf/2412.13201v1', 'http://arxiv.org/pdf/2501.06608v1', 'http://arxiv.org/pdf/2501.13395v1', 'http://arxiv.org/pdf/2501.18278v2', 'http://arxiv.org/pdf/2501.19153v2', 'http://arxiv.org/pdf/2503.08160v1', 'http://arxiv.org/pdf/2504.17452v1', 'http://arxiv.org/pdf/0908.4508v2', 'http://arxiv.org/pdf/1711.00882v2', 'http://arxiv.org/pdf/1811.12793v2', 'http://arxiv.org/pdf/2004.00407v1', 'http://arxiv.org/pdf/2011.03419v1', 'http://arxiv.org/pdf/2009.09509v1', 'http://arxiv.org/pdf/2104.04188v1', 'http://arxiv.org/pdf/2202.05146v4', 'http://arxiv.org/pdf/2205.01057v1', 'http://arxiv.org/pdf/2205.15360v3', 'http://arxiv.org/pdf/2210.07145v1', 'http://arxiv.org/pdf/2211.00861v1', 'http://arxiv.org/pdf/2304.04662v2', 'http://arxiv.org/pdf/2401.09176v1', 'http://arxiv.org/pdf/2401.10334v1', 'http://arxiv.org/pdf/2401.12232v1', 'http://arxiv.org/pdf/2407.15880v1', 'http://arxiv.org/pdf/2408.10482v1', 'http://arxiv.org/pdf/2410.10431v2', 'http://arxiv.org/pdf/2501.16382v1', 'http://arxiv.org/pdf/2502.12186v1', 'http://arxiv.org/pdf/2503.06337v4', 'http://arxiv.org/pdf/2504.19912v1', 'http://arxiv.org/pdf/2506.05768v1', 'http://arxiv.org/pdf/2306.13349v1', 'http://arxiv.org/pdf/1905.12033v1', 'http://arxiv.org/pdf/1910.12301v1', 'http://arxiv.org/pdf/2005.05537v1', 'http://arxiv.org/pdf/2103.06867v1', 'http://arxiv.org/pdf/1806.00080v2', 'http://arxiv.org/pdf/2412.10966v3', 'http://arxiv.org/pdf/1904.11223v3', 'http://arxiv.org/pdf/1909.05114v4', 'http://arxiv.org/pdf/1911.06105v1', 'http://arxiv.org/pdf/2004.12485v2', 'http://arxiv.org/pdf/2007.02557v1', 'http://arxiv.org/pdf/1410.8040v1', 'http://arxiv.org/pdf/2004.01028v1', 'http://arxiv.org/pdf/2210.06538v1', 'http://arxiv.org/pdf/2302.00981v3', 'http://arxiv.org/pdf/2201.09647v2', 'http://arxiv.org/pdf/1111.2769v3', 'http://arxiv.org/pdf/2212.10789v3', 'http://arxiv.org/pdf/2406.12910v1', 'http://arxiv.org/pdf/2412.10743v2', 'http://arxiv.org/pdf/2112.13168v5', 'http://arxiv.org/pdf/2409.03905v1', 'http://arxiv.org/pdf/2311.16666v2', 'http://arxiv.org/pdf/2312.03016v1', 'http://arxiv.org/pdf/2405.14925v1', 'http://arxiv.org/pdf/2306.04667v1', 'http://arxiv.org/pdf/1805.10158v2', 'http://arxiv.org/pdf/1807.08926v1', 'http://arxiv.org/pdf/2005.13653v1', 'http://arxiv.org/pdf/2303.03543v1', 'http://arxiv.org/pdf/2303.08245v2', 'http://arxiv.org/pdf/2305.10133v3', 'http://arxiv.org/pdf/2308.07413v1', 'http://arxiv.org/pdf/1902.02119v1', 'http://arxiv.org/pdf/2110.15200v2', 'http://arxiv.org/pdf/2112.03623v1', 'http://arxiv.org/pdf/2305.16330v1', 'http://arxiv.org/pdf/1811.00761v3', 'http://arxiv.org/pdf/2011.13788v1', 'http://arxiv.org/pdf/1803.04661v1', 'http://arxiv.org/pdf/2110.01806v2', 'http://arxiv.org/pdf/2310.04463v1', 'http://arxiv.org/pdf/2407.01648v2', 'http://arxiv.org/pdf/2408.09730v1', 'http://arxiv.org/pdf/2502.12453v1', 'http://arxiv.org/pdf/2503.16563v2', 'http://arxiv.org/pdf/2505.11185v1', 'http://arxiv.org/pdf/1401.1572v1', 'http://arxiv.org/pdf/1901.00783v1', 'http://arxiv.org/pdf/1706.01035v3', 'http://arxiv.org/pdf/1905.07079v1', 'http://arxiv.org/pdf/2204.10663v1', 'http://arxiv.org/pdf/2203.04695v2', 'http://arxiv.org/pdf/2212.03202v2', 'http://arxiv.org/pdf/2306.04291v1', 'http://arxiv.org/pdf/2309.16685v1', 'http://arxiv.org/pdf/2310.18985v1', 'http://arxiv.org/pdf/2403.07925v2', 'http://arxiv.org/pdf/2403.12668v1', 'http://arxiv.org/pdf/2404.12141v4', 'http://arxiv.org/pdf/2405.16861v2', 'http://arxiv.org/pdf/2407.13981v2', 'http://arxiv.org/pdf/2408.07415v1', 'http://arxiv.org/pdf/2503.13738v1', 'http://arxiv.org/pdf/2505.07286v2', 'http://arxiv.org/pdf/2504.10525v1', 'http://arxiv.org/pdf/1506.07116v1', 'http://arxiv.org/pdf/1511.07768v1', 'http://arxiv.org/pdf/1704.08432v3', 'http://arxiv.org/pdf/1806.04820v2', 'http://arxiv.org/pdf/2005.03479v1', 'http://arxiv.org/pdf/2005.07265v1', 'http://arxiv.org/pdf/2103.17026v1', 'http://arxiv.org/pdf/2204.09486v2', 'http://arxiv.org/pdf/1403.0541v1', 'http://arxiv.org/pdf/1803.04465v2', 'http://arxiv.org/pdf/1812.09073v1', 'http://arxiv.org/pdf/1912.00318v1', 'http://arxiv.org/pdf/2009.14480v2', 'http://arxiv.org/pdf/2010.15900v1', 'http://arxiv.org/pdf/2105.05758v2', 'http://arxiv.org/pdf/2108.13764v1', 'http://arxiv.org/pdf/2110.01219v3', 'http://arxiv.org/pdf/2111.11529v1', 'http://arxiv.org/pdf/2201.08176v1', 'http://arxiv.org/pdf/2211.07570v1', 'http://arxiv.org/pdf/2211.11214v4', 'http://arxiv.org/pdf/2304.09344v1', 'http://arxiv.org/pdf/2308.08561v3', 'http://arxiv.org/pdf/2404.00160v2', 'http://arxiv.org/pdf/2406.14347v2', 'http://arxiv.org/pdf/2407.14185v1', 'http://arxiv.org/pdf/2409.16486v1', 'http://arxiv.org/pdf/2412.07819v2', 'http://arxiv.org/pdf/2501.02824v1', 'http://arxiv.org/pdf/2502.04397v2', 'http://arxiv.org/pdf/2503.11068v2', 'http://arxiv.org/pdf/2504.04647v1', 'http://arxiv.org/pdf/2505.02514v1', 'http://arxiv.org/pdf/2012.05665v1', 'http://arxiv.org/pdf/1205.6412v1', 'http://arxiv.org/pdf/1206.4588v1', 'http://arxiv.org/pdf/1512.08808v2', 'http://arxiv.org/pdf/1612.02751v1', 'http://arxiv.org/pdf/1905.13372v1', 'http://arxiv.org/pdf/2002.04555v2', 'http://arxiv.org/pdf/2005.07955v2', 'http://arxiv.org/pdf/1406.0721v3', 'http://arxiv.org/pdf/1803.02815v2', 'http://arxiv.org/pdf/2008.03646v1', 'http://arxiv.org/pdf/2009.10333v1', 'http://arxiv.org/pdf/2012.00651v1', 'http://arxiv.org/pdf/2012.07640v1', 'http://arxiv.org/pdf/2104.08869v2', 'http://arxiv.org/pdf/2211.02657v1', 'http://arxiv.org/pdf/2212.07826v1', 'http://arxiv.org/pdf/2212.13617v1', 'http://arxiv.org/pdf/2304.03889v1', 'http://arxiv.org/pdf/2304.12825v1', 'http://arxiv.org/pdf/2307.15377v1', 'http://arxiv.org/pdf/2311.06297v1', 'http://arxiv.org/pdf/2406.04628v1', 'http://arxiv.org/pdf/2406.18330v1', 'http://arxiv.org/pdf/2408.06050v2', 'http://arxiv.org/pdf/2412.01174v1', 'http://arxiv.org/pdf/2501.09103v1', 'http://arxiv.org/pdf/2503.07533v1', 'http://arxiv.org/pdf/2503.12796v1', 'http://arxiv.org/pdf/2506.01765v1', 'http://arxiv.org/pdf/1206.1755v3', 'http://arxiv.org/pdf/q-bio/0504011v1', 'http://arxiv.org/pdf/1910.13512v1', 'http://arxiv.org/pdf/2002.12541v1', 'http://arxiv.org/pdf/2106.00413v1', 'http://arxiv.org/pdf/2303.15604v1', 'http://arxiv.org/pdf/2406.19136v6', 'http://arxiv.org/pdf/q-bio/0603006v1', 'http://arxiv.org/pdf/1811.11686v3', 'http://arxiv.org/pdf/2212.01575v1', 'http://arxiv.org/pdf/2311.15201v3', 'http://arxiv.org/pdf/0708.1457v1', 'http://arxiv.org/pdf/0802.2330v2', 'http://arxiv.org/pdf/1502.07458v2', 'http://arxiv.org/pdf/1602.04470v1', 'http://arxiv.org/pdf/1605.02041v1', 'http://arxiv.org/pdf/1705.08520v1', 'http://arxiv.org/pdf/1708.03733v2', 'http://arxiv.org/pdf/1711.10009v1', 'http://arxiv.org/pdf/1806.07557v1', 'http://arxiv.org/pdf/1902.03066v1', 'http://arxiv.org/pdf/1904.06517v2', 'http://arxiv.org/pdf/2003.01418v1', 'http://arxiv.org/pdf/1812.01887v1', 'http://arxiv.org/pdf/2007.05292v1', 'http://arxiv.org/pdf/2007.16012v1', 'http://arxiv.org/pdf/2009.07778v3', 'http://arxiv.org/pdf/2012.06147v1', 'http://arxiv.org/pdf/2012.08452v2', 'http://arxiv.org/pdf/2104.09206v1', 'http://arxiv.org/pdf/2104.10927v1', 'http://arxiv.org/pdf/2105.09690v2', 'http://arxiv.org/pdf/2107.00096v1', 'http://arxiv.org/pdf/2201.12237v1', 'http://arxiv.org/pdf/2202.12261v1', 'http://arxiv.org/pdf/2206.08262v1', 'http://arxiv.org/pdf/2210.06043v1', 'http://arxiv.org/pdf/2302.03790v1', 'http://arxiv.org/pdf/2302.07061v2', 'http://arxiv.org/pdf/2302.07120v1', 'http://arxiv.org/pdf/2303.15419v2', 'http://arxiv.org/pdf/2304.12239v1', 'http://arxiv.org/pdf/2305.07195v2', 'http://arxiv.org/pdf/2305.07488v1', 'http://arxiv.org/pdf/2306.12348v2', 'http://arxiv.org/pdf/2307.01066v2', 'http://arxiv.org/pdf/2308.12325v2', 'http://arxiv.org/pdf/2310.00795v1', 'http://arxiv.org/pdf/2401.12999v2', 'http://arxiv.org/pdf/2403.20109v1', 'http://arxiv.org/pdf/2405.00166v1', 'http://arxiv.org/pdf/2406.09346v2', 'http://arxiv.org/pdf/2409.14617v1', 'http://arxiv.org/pdf/2410.02496v1', 'http://arxiv.org/pdf/2410.10271v1', 'http://arxiv.org/pdf/2410.11458v1', 'http://arxiv.org/pdf/2410.15010v1', 'http://arxiv.org/pdf/2411.04150v1', 'http://arxiv.org/pdf/2412.06758v1', 'http://arxiv.org/pdf/2503.04135v1', 'http://arxiv.org/pdf/2503.05458v1', 'http://arxiv.org/pdf/2505.04912v1', 'http://arxiv.org/pdf/2505.12848v1', 'http://arxiv.org/pdf/2309.12679v2', 'http://arxiv.org/pdf/1602.08119v1', 'http://arxiv.org/pdf/2105.04350v4', 'http://arxiv.org/pdf/2207.11547v1', 'http://arxiv.org/pdf/2412.14717v1', 'http://arxiv.org/pdf/2502.18875v1', 'http://arxiv.org/pdf/2506.00771v1', 'http://arxiv.org/pdf/2112.08211v1', 'http://arxiv.org/pdf/2306.11768v6', 'http://arxiv.org/pdf/q-bio/0310005v2', 'http://arxiv.org/pdf/q-bio/0311005v2', 'http://arxiv.org/pdf/q-bio/0405004v1', 'http://arxiv.org/pdf/1001.3529v1', 'http://arxiv.org/pdf/1012.0917v1', 'http://arxiv.org/pdf/1803.04479v1', 'http://arxiv.org/pdf/2202.05704v1', 'http://arxiv.org/pdf/2202.09886v2', 'http://arxiv.org/pdf/2307.14587v1', 'http://arxiv.org/pdf/2412.19875v1', 'http://arxiv.org/pdf/1111.4494v1', 'http://arxiv.org/pdf/q-bio/0406031v1', 'http://arxiv.org/pdf/1206.2431v2', 'http://arxiv.org/pdf/1703.10603v1', 'http://arxiv.org/pdf/2002.09914v1', 'http://arxiv.org/pdf/1710.10721v1', 'http://arxiv.org/pdf/2209.11508v1', 'http://arxiv.org/pdf/2310.07229v2', 'http://arxiv.org/pdf/2402.14315v2', 'http://arxiv.org/pdf/2411.01667v2', 'http://arxiv.org/pdf/2506.10912v1', 'http://arxiv.org/pdf/2208.10230v4', 'http://arxiv.org/pdf/1904.01903v2', 'http://arxiv.org/pdf/1802.02516v1', 'http://arxiv.org/pdf/1710.08452v1', 'http://arxiv.org/pdf/1912.11356v1', 'http://arxiv.org/pdf/2206.07015v1', 'http://arxiv.org/pdf/2306.13769v3', 'http://arxiv.org/pdf/2311.12025v3', 'http://arxiv.org/pdf/2401.10806v1', 'http://arxiv.org/pdf/2402.18583v1', 'http://arxiv.org/pdf/2403.13829v1', 'http://arxiv.org/pdf/2410.09240v1', 'http://arxiv.org/pdf/2412.09661v1', 'http://arxiv.org/pdf/2501.06814v2', 'http://arxiv.org/pdf/2402.01744v4', 'http://arxiv.org/pdf/2402.19177v3', 'http://arxiv.org/pdf/2406.10840v3', 'http://arxiv.org/pdf/2503.06074v1', 'http://arxiv.org/pdf/2102.00925v1', 'http://arxiv.org/pdf/2205.10627v1', 'http://arxiv.org/pdf/2210.16392v2', 'http://arxiv.org/pdf/2406.03979v1', 'http://arxiv.org/pdf/cond-mat/0107624v1', 'http://arxiv.org/pdf/cond-mat/0605303v1', 'http://arxiv.org/pdf/1509.04435v1', 'http://arxiv.org/pdf/1602.06289v2', 'http://arxiv.org/pdf/1602.07170v1', 'http://arxiv.org/pdf/1610.00048v1', 'http://arxiv.org/pdf/2004.08152v1', 'http://arxiv.org/pdf/2101.01362v2', 'http://arxiv.org/pdf/2101.09050v1', 'http://arxiv.org/pdf/2008.12027v1', 'http://arxiv.org/pdf/2009.05360v1', 'http://arxiv.org/pdf/2307.15717v1', 'http://arxiv.org/pdf/2410.09469v1', 'http://arxiv.org/pdf/2410.12348v1', 'http://arxiv.org/pdf/2503.00913v1', 'http://arxiv.org/pdf/nlin/0204040v1', 'http://arxiv.org/pdf/0707.0114v2', 'http://arxiv.org/pdf/1404.4515v2', 'http://arxiv.org/pdf/1607.06824v4', 'http://arxiv.org/pdf/1608.01269v1', 'http://arxiv.org/pdf/1806.03765v1', 'http://arxiv.org/pdf/1811.06802v2', 'http://arxiv.org/pdf/1909.00949v1', 'http://arxiv.org/pdf/2008.06449v1', 'http://arxiv.org/pdf/2009.13946v1', 'http://arxiv.org/pdf/2110.01339v2', 'http://arxiv.org/pdf/2202.00658v1', 'http://arxiv.org/pdf/2203.02096v1', 'http://arxiv.org/pdf/2206.05337v2', 'http://arxiv.org/pdf/2209.07423v1', 'http://arxiv.org/pdf/2302.05847v1', 'http://arxiv.org/pdf/2309.17296v2', 'http://arxiv.org/pdf/2310.00115v2', 'http://arxiv.org/pdf/2409.07462v2', 'http://arxiv.org/pdf/2501.01939v1', 'http://arxiv.org/pdf/2501.15631v1', 'http://arxiv.org/pdf/2504.05564v1', 'http://arxiv.org/pdf/2504.17497v2', 'http://arxiv.org/pdf/2505.11878v1', 'http://arxiv.org/pdf/2505.17198v1', 'http://arxiv.org/pdf/0810.1327v1', 'http://arxiv.org/pdf/1806.05237v1', 'http://arxiv.org/pdf/2311.13466v2', 'http://arxiv.org/pdf/2409.17726v1', 'http://arxiv.org/pdf/2412.16483v2', 'http://arxiv.org/pdf/2009.06041v1', 'http://arxiv.org/pdf/2104.12003v1', 'http://arxiv.org/pdf/2407.18322v2', 'http://arxiv.org/pdf/2409.01903v1', 'http://arxiv.org/pdf/0808.2125v1', 'http://arxiv.org/pdf/1902.10501v1', 'http://arxiv.org/pdf/2412.11229v1', 'http://arxiv.org/pdf/2502.05114v1', 'http://arxiv.org/pdf/2503.16996v2', 'http://arxiv.org/pdf/2504.19695v1', 'http://arxiv.org/pdf/2506.03800v1', 'http://arxiv.org/pdf/0911.4539v1', 'http://arxiv.org/pdf/1001.2524v1', 'http://arxiv.org/pdf/1303.4805v4', 'http://arxiv.org/pdf/1312.6220v2', 'http://arxiv.org/pdf/1512.06896v1', 'http://arxiv.org/pdf/1602.08111v1', 'http://arxiv.org/pdf/1608.00108v1', 'http://arxiv.org/pdf/1705.10883v2', 'http://arxiv.org/pdf/1708.09823v1', 'http://arxiv.org/pdf/1806.07537v2', 'http://arxiv.org/pdf/1811.03392v1', 'http://arxiv.org/pdf/1907.02590v1', 'http://arxiv.org/pdf/1909.05091v2', 'http://arxiv.org/pdf/1910.00662v1', 'http://arxiv.org/pdf/2005.01765v3', 'http://arxiv.org/pdf/2103.03864v5', 'http://arxiv.org/pdf/1912.11430v3', 'http://arxiv.org/pdf/2006.02431v1', 'http://arxiv.org/pdf/2007.00576v6', 'http://arxiv.org/pdf/2105.02048v1', 'http://arxiv.org/pdf/2105.07240v1', 'http://arxiv.org/pdf/2108.12287v1', 'http://arxiv.org/pdf/2109.03900v1', 'http://arxiv.org/pdf/2201.11673v2', 'http://arxiv.org/pdf/2205.00093v1', 'http://arxiv.org/pdf/2208.05863v4', 'http://arxiv.org/pdf/2301.06194v1', 'http://arxiv.org/pdf/2302.07541v1', 'http://arxiv.org/pdf/2303.06965v5', 'http://arxiv.org/pdf/2304.06253v1', 'http://arxiv.org/pdf/2306.02369v1', 'http://arxiv.org/pdf/2306.12754v1', 'http://arxiv.org/pdf/2307.06439v1', 'http://arxiv.org/pdf/2309.11687v1', 'http://arxiv.org/pdf/2309.13484v1', 'http://arxiv.org/pdf/2309.16684v1', 'http://arxiv.org/pdf/2310.03946v5', 'http://arxiv.org/pdf/2310.09167v2', 'http://arxiv.org/pdf/2310.09529v1', 'http://arxiv.org/pdf/2311.18725v1', 'http://arxiv.org/pdf/2401.01874v1', 'http://arxiv.org/pdf/2402.00024v3', 'http://arxiv.org/pdf/2402.07249v3', 'http://arxiv.org/pdf/2402.10551v1', 'http://arxiv.org/pdf/2405.12258v3', 'http://arxiv.org/pdf/2407.01597v1', 'http://arxiv.org/pdf/2407.11057v1', 'http://arxiv.org/pdf/2407.19073v1', 'http://arxiv.org/pdf/2408.09142v1', 'http://arxiv.org/pdf/2409.05916v1', 'http://arxiv.org/pdf/2409.07912v1', 'http://arxiv.org/pdf/2410.14380v2', 'http://arxiv.org/pdf/2410.18118v1', 'http://arxiv.org/pdf/2410.22472v3', 'http://arxiv.org/pdf/2411.06740v4', 'http://arxiv.org/pdf/2411.15183v1', 'http://arxiv.org/pdf/2412.15804v3', 'http://arxiv.org/pdf/2501.06003v2', 'http://arxiv.org/pdf/2501.18439v1', 'http://arxiv.org/pdf/2502.05529v1', 'http://arxiv.org/pdf/2502.09247v1', 'http://arxiv.org/pdf/2503.01682v1', 'http://arxiv.org/pdf/2503.19476v2', 'http://arxiv.org/pdf/2503.19665v1', 'http://arxiv.org/pdf/2504.00645v1', 'http://arxiv.org/pdf/2504.20127v3', 'http://arxiv.org/pdf/2505.07748v1', 'http://arxiv.org/pdf/2506.05628v1', 'http://arxiv.org/pdf/2506.08059v1', 'http://arxiv.org/pdf/2506.12821v1', 'http://arxiv.org/pdf/q-bio/0611013v1', 'http://arxiv.org/pdf/1812.06400v2', 'http://arxiv.org/pdf/2109.10469v2', 'http://arxiv.org/pdf/2210.03488v2', 'http://arxiv.org/pdf/2212.09450v2', 'http://arxiv.org/pdf/2301.00427v2', 'http://arxiv.org/pdf/2302.10888v1', 'http://arxiv.org/pdf/2307.13275v2', 'http://arxiv.org/pdf/2404.01743v1', 'http://arxiv.org/pdf/2410.05278v1', 'http://arxiv.org/pdf/2501.11891v1', 'http://arxiv.org/pdf/2503.00165v1', 'http://arxiv.org/pdf/2505.18392v1', 'http://arxiv.org/pdf/2310.13913v4', 'http://arxiv.org/pdf/1602.08079v1', 'http://arxiv.org/pdf/1609.05061v2', 'http://arxiv.org/pdf/2503.16096v1', 'http://arxiv.org/pdf/1111.7183v1', 'http://arxiv.org/pdf/1905.08879v1', 'http://arxiv.org/pdf/1905.09558v1', 'http://arxiv.org/pdf/1911.10241v2', 'http://arxiv.org/pdf/2001.01924v1', 'http://arxiv.org/pdf/2006.00822v1', 'http://arxiv.org/pdf/2007.10111v1', 'http://arxiv.org/pdf/2012.00094v2', 'http://arxiv.org/pdf/2111.05092v1', 'http://arxiv.org/pdf/2111.06738v1', 'http://arxiv.org/pdf/2111.07786v2', 'http://arxiv.org/pdf/2206.01665v2', 'http://arxiv.org/pdf/2211.15210v2', 'http://arxiv.org/pdf/2305.04120v2', 'http://arxiv.org/pdf/2310.00681v3', 'http://arxiv.org/pdf/2311.16126v1', 'http://arxiv.org/pdf/2312.01186v1', 'http://arxiv.org/pdf/2312.16855v1', 'http://arxiv.org/pdf/2403.00043v2', 'http://arxiv.org/pdf/2403.07179v2', 'http://arxiv.org/pdf/2405.06659v2', 'http://arxiv.org/pdf/2407.18317v1', 'http://arxiv.org/pdf/2408.11363v2', 'http://arxiv.org/pdf/2411.04660v1', 'http://arxiv.org/pdf/2501.01229v1', 'http://arxiv.org/pdf/2502.04998v1', 'http://arxiv.org/pdf/2504.19766v1', 'http://arxiv.org/pdf/2504.21092v1', 'http://arxiv.org/pdf/2505.08475v2', 'http://arxiv.org/pdf/2505.24203v1', 'http://arxiv.org/pdf/2401.14819v1', 'http://arxiv.org/pdf/2412.04588v1', 'http://arxiv.org/pdf/2406.16821v1', 'http://arxiv.org/pdf/2006.09275v2', 'http://arxiv.org/pdf/2308.12735v1', 'http://arxiv.org/pdf/2410.20354v4', 'http://arxiv.org/pdf/0908.4524v2', 'http://arxiv.org/pdf/1311.6625v1', 'http://arxiv.org/pdf/1503.05638v2', 'http://arxiv.org/pdf/1506.06339v1', 'http://arxiv.org/pdf/1603.00856v3', 'http://arxiv.org/pdf/1610.08611v1', 'http://arxiv.org/pdf/1610.08739v1', 'http://arxiv.org/pdf/1704.07555v2', 'http://arxiv.org/pdf/1708.06906v2', 'http://arxiv.org/pdf/1708.08407v1', 'http://arxiv.org/pdf/1709.05584v3', 'http://arxiv.org/pdf/1711.09117v1', 'http://arxiv.org/pdf/1806.09520v1', 'http://arxiv.org/pdf/1810.09535v1', 'http://arxiv.org/pdf/1902.02321v1', 'http://arxiv.org/pdf/2004.00746v1', 'http://arxiv.org/pdf/2103.13047v1', 'http://arxiv.org/pdf/1809.02717v1', 'http://arxiv.org/pdf/1611.10045v3', 'http://arxiv.org/pdf/1710.06012v2', 'http://arxiv.org/pdf/2009.14061v3', 'http://arxiv.org/pdf/2106.04113v1', 'http://arxiv.org/pdf/2107.10670v1', 'http://arxiv.org/pdf/2110.11880v1', 'http://arxiv.org/pdf/2110.15459v3', 'http://arxiv.org/pdf/2208.14789v1', 'http://arxiv.org/pdf/2301.08210v1', 'http://arxiv.org/pdf/2306.07812v2', 'http://arxiv.org/pdf/2306.11681v2', 'http://arxiv.org/pdf/2307.00623v2', 'http://arxiv.org/pdf/2307.04493v1', 'http://arxiv.org/pdf/2310.05764v4', 'http://arxiv.org/pdf/2310.19513v1', 'http://arxiv.org/pdf/2312.13110v3', 'http://arxiv.org/pdf/2312.14732v1', 'http://arxiv.org/pdf/2401.16771v1', 'http://arxiv.org/pdf/2403.14736v2', 'http://arxiv.org/pdf/2404.07852v1', 'http://arxiv.org/pdf/2405.03961v2', 'http://arxiv.org/pdf/2406.08961v1', 'http://arxiv.org/pdf/2411.10821v1', 'http://arxiv.org/pdf/2411.15208v1', 'http://arxiv.org/pdf/1207.5083v2', 'http://arxiv.org/pdf/1906.11659v1', 'http://arxiv.org/pdf/2207.01586v3', 'http://arxiv.org/pdf/2309.00506v1', 'http://arxiv.org/pdf/1911.05531v1', 'http://arxiv.org/pdf/2105.08100v1', 'http://arxiv.org/pdf/2112.04814v1', 'http://arxiv.org/pdf/2205.07673v2', 'http://arxiv.org/pdf/2302.11000v1', 'http://arxiv.org/pdf/2407.00560v1', 'http://arxiv.org/pdf/2411.08286v1', 'http://arxiv.org/pdf/1510.00953v1', 'http://arxiv.org/pdf/2204.09042v3', 'http://arxiv.org/pdf/2106.02190v6', 'http://arxiv.org/pdf/2201.00287v3', 'http://arxiv.org/pdf/2409.07189v1', 'http://arxiv.org/pdf/2502.16378v1', 'http://arxiv.org/pdf/2504.03847v2', 'http://arxiv.org/pdf/cond-mat/0410436v1', 'http://arxiv.org/pdf/cond-mat/0412089v1', 'http://arxiv.org/pdf/cond-mat/0511240v1', 'http://arxiv.org/pdf/0907.1531v1', 'http://arxiv.org/pdf/1002.4042v3', 'http://arxiv.org/pdf/1206.6399v1', 'http://arxiv.org/pdf/1308.5873v1', 'http://arxiv.org/pdf/1312.1670v1', 'http://arxiv.org/pdf/1407.4071v1', 'http://arxiv.org/pdf/1412.4117v1', 'http://arxiv.org/pdf/1502.06464v2', 'http://arxiv.org/pdf/1506.01044v2', 'http://arxiv.org/pdf/1508.06077v1', 'http://arxiv.org/pdf/1510.08467v2', 'http://arxiv.org/pdf/1702.06187v4', 'http://arxiv.org/pdf/1706.02616v4', 'http://arxiv.org/pdf/1708.00112v3', 'http://arxiv.org/pdf/1711.01354v1', 'http://arxiv.org/pdf/1804.04836v1', 'http://arxiv.org/pdf/1806.00351v1', 'http://arxiv.org/pdf/1903.02788v2', 'http://arxiv.org/pdf/1905.13639v1', 'http://arxiv.org/pdf/1906.06916v2', 'http://arxiv.org/pdf/2002.05358v1', 'http://arxiv.org/pdf/2002.07007v1', 'http://arxiv.org/pdf/2004.13766v1', 'http://arxiv.org/pdf/2005.13438v1', 'http://arxiv.org/pdf/2101.07070v1', 'http://arxiv.org/pdf/2101.08743v1', 'http://arxiv.org/pdf/2102.09626v3', 'http://arxiv.org/pdf/1802.04096v1', 'http://arxiv.org/pdf/2011.05188v2', 'http://arxiv.org/pdf/2204.02513v1', 'http://arxiv.org/pdf/1803.02398v1', 'http://arxiv.org/pdf/1803.06393v1', 'http://arxiv.org/pdf/1812.04562v4', 'http://arxiv.org/pdf/1912.09653v1', 'http://arxiv.org/pdf/2006.09183v2', 'http://arxiv.org/pdf/2006.10584v1', 'http://arxiv.org/pdf/2006.14246v1', 'http://arxiv.org/pdf/2007.05700v4', 'http://arxiv.org/pdf/2007.07736v4', 'http://arxiv.org/pdf/2007.11114v2', 'http://arxiv.org/pdf/2007.14375v1', 'http://arxiv.org/pdf/2009.01872v1', 'http://arxiv.org/pdf/2012.07127v1', 'http://arxiv.org/pdf/2012.13233v3', 'http://arxiv.org/pdf/2106.03562v1', 'http://arxiv.org/pdf/2106.04464v2', 'http://arxiv.org/pdf/2108.01982v1', 'http://arxiv.org/pdf/2110.06389v2', 'http://arxiv.org/pdf/2110.07728v2', 'http://arxiv.org/pdf/2111.04504v1', 'http://arxiv.org/pdf/2112.10892v2', 'http://arxiv.org/pdf/2202.09891v2', 'http://arxiv.org/pdf/2203.02819v1', 'http://arxiv.org/pdf/2203.04697v1', 'http://arxiv.org/pdf/2203.07343v1', 'http://arxiv.org/pdf/2206.13602v2', 'http://arxiv.org/pdf/2206.14719v2', 'http://arxiv.org/pdf/2207.06456v2', 'http://arxiv.org/pdf/2208.04852v1', 'http://arxiv.org/pdf/2210.01776v2', 'http://arxiv.org/pdf/2210.03211v1', 'http://arxiv.org/pdf/2210.16518v3', 'http://arxiv.org/pdf/2212.04465v2', 'http://arxiv.org/pdf/2301.05473v3', 'http://arxiv.org/pdf/2301.12477v1', 'http://arxiv.org/pdf/2302.02386v1', 'http://arxiv.org/pdf/2304.07558v1', 'http://arxiv.org/pdf/2304.09902v1', 'http://arxiv.org/pdf/2305.13545v1', 'http://arxiv.org/pdf/2306.14852v2', 'http://arxiv.org/pdf/2307.01448v1', 'http://arxiv.org/pdf/2308.05125v1', 'http://arxiv.org/pdf/2309.15831v1', 'http://arxiv.org/pdf/2309.17366v3', 'http://arxiv.org/pdf/2310.07276v3', 'http://arxiv.org/pdf/2310.18367v1', 'http://arxiv.org/pdf/2311.10808v1', 'http://arxiv.org/pdf/2311.16160v1', 'http://arxiv.org/pdf/2402.03823v1']\n"
     ]
    }
   ],
   "source": [
    "# grab the urls from the 'pdf link' column and store them in a list\n",
    "pdf_url_list = df[\"pdf link\"].tolist()\n",
    "print(pdf_url_list)"
   ]
  },
  {
   "cell_type": "code",
   "execution_count": 4,
   "id": "5c19969d",
   "metadata": {},
   "outputs": [],
   "source": [
    "import pdfplumber\n",
    "\n",
    "def convert_pdf_to_text_and_metadata(path):\n",
    "    with pdfplumber.open(path, strict_metadata=True) as pdf:\n",
    "        meta = pdf.metadata\n",
    "        \n",
    "        paged_pdf = pdf.pages\n",
    "        text = [] # pdf has become a list containing one pdfplumber.Page instance per page. Need to loop through each page in the list and append text to a new list\n",
    "        for i in range(len(paged_pdf)):\n",
    "            words = paged_pdf[i].extract_text(x_tolerance=2, \n",
    "                                       x_tolerance_ratio=0.15, \n",
    "                                       y_tolerance=3, \n",
    "                                       layout=False, \n",
    "                                       x_density=7.25, \n",
    "                                       y_density=13, \n",
    "                                       line_dir_render=None, \n",
    "                                       char_dir_render=None)\n",
    "            text.append(words)\n",
    "        return text, meta"
   ]
  },
  {
   "cell_type": "code",
   "execution_count": null,
   "id": "b7cfa01e",
   "metadata": {},
   "outputs": [
    {
     "name": "stderr",
     "output_type": "stream",
     "text": [
      "CropBox missing from /Page, defaulting to MediaBox\n",
      "CropBox missing from /Page, defaulting to MediaBox\n",
      "CropBox missing from /Page, defaulting to MediaBox\n",
      "CropBox missing from /Page, defaulting to MediaBox\n",
      "CropBox missing from /Page, defaulting to MediaBox\n",
      "CropBox missing from /Page, defaulting to MediaBox\n",
      "CropBox missing from /Page, defaulting to MediaBox\n",
      "CropBox missing from /Page, defaulting to MediaBox\n",
      "CropBox missing from /Page, defaulting to MediaBox\n",
      "CropBox missing from /Page, defaulting to MediaBox\n",
      "CropBox missing from /Page, defaulting to MediaBox\n",
      "CropBox missing from /Page, defaulting to MediaBox\n",
      "CropBox missing from /Page, defaulting to MediaBox\n",
      "CropBox missing from /Page, defaulting to MediaBox\n",
      "CropBox missing from /Page, defaulting to MediaBox\n",
      "CropBox missing from /Page, defaulting to MediaBox\n",
      "CropBox missing from /Page, defaulting to MediaBox\n",
      "CropBox missing from /Page, defaulting to MediaBox\n",
      "CropBox missing from /Page, defaulting to MediaBox\n",
      "CropBox missing from /Page, defaulting to MediaBox\n",
      "CropBox missing from /Page, defaulting to MediaBox\n",
      "CropBox missing from /Page, defaulting to MediaBox\n",
      "CropBox missing from /Page, defaulting to MediaBox\n",
      "CropBox missing from /Page, defaulting to MediaBox\n",
      "CropBox missing from /Page, defaulting to MediaBox\n",
      "CropBox missing from /Page, defaulting to MediaBox\n",
      "CropBox missing from /Page, defaulting to MediaBox\n",
      "CropBox missing from /Page, defaulting to MediaBox\n"
     ]
    },
    {
     "name": "stdout",
     "output_type": "stream",
     "text": [
      "{'pdf_text': [['IEEE/ACM TRANSACTIONS ON COMPUTATIONAL BIOLOGY AND BIOINFORMATICS 1\\nDrug Selection\\nvia Joint Push and Learning to Rank\\nYicheng He∗, Junfeng Liu∗, and Xia Ning‡\\nAbstract—Selecting the right drugs for the right patients is a primary goal of precision medicine. In this manuscript, we consider the\\nproblem of cancer drug selection in a learning-to-rank framework. We have formulated the cancer drug selection problem as to\\naccurately predicting 1). the ranking positions of sensitive drugs and 2). the ranking orders among sensitive drugs in cancer cell lines\\nbased on their responses to cancer drugs. We have developed a new learning-to-rank method, denoted as pLETORg, that predicts drug\\nranking structures in each cell line via using drug latent vectors and cell line latent vectors. The pLETORg method learns such latent\\nvectors through explicitly enforcing that, in the drug ranking list of each cell line, the sensitive drugs are pushed above insensitive\\ndrugs, and meanwhile the ranking orders among sensitive drugs are correct. Genomics information on cell lines is leveraged in\\nlearning the latent vectors. Our experimental results on a benchmark cell line-drug response dataset demonstrate that the new\\npLETORg significantly outperforms the state-of-the-art method in prioritizing new sensitive drugs.\\nIndex Terms—Drug Selection, Learning to Rank\\n(cid:70)\\n1 INTRODUCTION\\nSELECTING the right drugs for the right patients is a However, a key challenge for off-label drug use is the lack of\\nprimary goal of precision medicine [1]. An appealing knowledge base of preclinical and clinical evidence, hence,\\noption for precision cancer drug selection is via the pan- the guidance for drug selection in practice [9].\\ncancer scheme [2] that examines various cancer types to- In this manuscript, we present a new computational\\ngether. The landscape of cancer genomics reveals that var- cancer drug selection method – joint push and LEarning TO\\nious cancer types share driving mutagenesis mechanisms Rank with genomics regularization (pLETORg). In pLETORg,\\nand corresponding molecular signaling pathways in several we formulate the problem of drug selection based on cell\\ncore cellular processes [3]. This finding has motivated the line responses as a learning-to-rank [10] problem, that is, we\\nmost recent clinical trials (e.g., the Molecular Analysis for aim to produce accurate drug orderings (in terms of drug\\nTherapy Choice Trial at National Cancer Institute1) to iden- sensitivity) in each cell line via learning, and thus prioritize\\ntify common targets for patients of various cancer types and sensitive drugs in each cell line. This corresponds to the ap-\\nto prescribe same drug therapy to such patients. Such pan- plication scenario in which drugs need to be prioritized and\\ncancer scheme is also well supported by the strong pan- selected to treat a given cell line/patient. Drug sensitivity\\ncancer mutations [4] and copy number variation [5] patterns here represents the capacity of drugs for reduction in cancer\\nobserved from The Cancer Genomics Atlas2 project. The cell proliferation. Cell line responses to drugs reflect drug\\nabove pan-cancer evidence from theories and practices lays sensitivities on the cell lines, and thus, we use the concepts\\nthe foundation for joint analysis of multiple cancer cell lines of drug sensitivity and cell line response in this manuscript\\nand their drug responses to prioritize and select sensitive exchangeably.\\ncancer drugs. To induce correct ordering of drugs in each cell line\\nAnother appealing option for precision cancer drug se- in terms of drug sensitivity, for each involved drug and\\nlection is via the popular off-label drug use [6] (i.e., the use cell line, in pLETORg, we learn a latent vector and score\\nof drugs for unapproved therapeutic indications [7]). This is drugs in each cell line using drug latent vectors and the\\ndue to the fact that some aggressive cancer types have very corresponding cell line latent vector. We learn such latent\\nlimited existing therapeutic options, while conventional vectors through explicitly enforcing and optimizing that, in\\ndrug development for those cancers, and also in general, the drug ranking list of each cell line, the sensitive drugs\\nhas been extremely time-consuming, costly and risky [8]. are pushed above insensitive drugs, and meanwhile the\\nranking orders among sensitive drugs are correct, where\\nthe ranking position of a drug in a cell line is determined\\n• Y. He∗ and J. Liu∗ have equal contributions to this work and are co-first\\nby the drug latent vector and cell line latent vector. We\\nauthors.\\n• Y. He, J. Liu and X. Ning are with the Department of Computer and In- simultaneously learn from all the cell lines and their drug\\nformation Science, Indiana University - Purdue University Indianapolis. ranking structures. In this way, the structural information of\\n• X. Ning is with the Center for Computational Biology and Bioinformatics, all the cell lines can be transferred across and leveraged dur-\\nIndiana University School of Medicine.\\ning the learning process. We also use genomics information\\nAddress: 410 West 10th St., HITS 5011, Indianapolis, IN 46202, USA\\n‡E-mail: xning@iupui.edu on cell lines to regularize the latent vectors in learning to\\nrank. Fig. 1 demonstrates the overall scheme of the pLETORg\\n1. https://www.cancer.gov/about-cancer/treatment/clinical-\\ntrials/nci-supported/nci-match method.\\n2. https://cancergenome.nih.gov/ The new pLETORg is significantly different from the ex-\\n8102\\nyaM\\n81\\n]GL.sc[\\n2v19670.1081:viXra', 'IEEE/ACM TRANSACTIONS ON COMPUTATIONAL BIOLOGY AND BIOINFORMATICS 2\\nsenilllec\\ngenes\\nwpq\\ngene expressions\\nsenilllec\\nlatent\\ndimensions\\nU\\ncell lines *drug sensitivity\\ntnetal\\nsnoisnemid\\nIntegrated Network-Based Cellular Signatures (LINCS) 5), it\\npLETORg optimization: drugs is very likely that the regression sacrifices its accuracies on\\ndrugs a very few but sensitive drugs in order to achieve better ac-\\nminL =(1 − α)P↑ + αO+\\nf f f curacies on the majority insensitive drugs, and thus smaller\\nU,V\\n+β R + γ R total errors on all drugs overall. This situation is even more\\n2 uv 2 csim V\\nlikely when the cell line response values on sensitive drugs\\nfollow a very different distribution, and thus appear like\\noutliers [21], than that from insensitive drugs, which is also\\nvery often the case. Fig. 2 presents a typical distribution of\\ns↑\\ncell line (LS123 from Cancer Therapeutics Response Portal\\n(CTRP v2) 6) responses to drugs. In Fig. 2, lower cell line\\nresponse scores indicate higher drug sensitivities. It is clear\\nin Fig. 2 that top most sensitive drugs (in red in the figure)\\nhave sensitivity values of a different distribution than the\\n*Color densities in “drug sensitivity” matrix indicate drug rest. When cell line responses on sensitive drugs cannot be\\nsensitivity rankings: denser colors indicate higher drug accurately predicted by regression models, it will further\\nsensitivity rankings.\\ns↑ indicates a sensitive drug will be pushed up in pLETORg lead to imprecise drug selection or prioritization (e.g., sen-\\noptimization. sitive drugs may be predicted as insensitive).\\n18.0\\nFig. 1: pLETORg scheme overview\\n12.0\\nisting computational drug selection methods. Current com-\\nputational efforts for precision cancer drug selection [11] 6.0\\nare primarily focused on using regression methods (e.g.,\\n0.0\\nkernel based methods [12], [13], matrix factorization [14],\\n0 100 200 300 400\\n[15], network-based similarity aggregation [16]) to predict\\ndrug sensitivities (e.g., in GI50 3, IC50 4) numerically, and se-\\nlecting drugs with optimal sensitivities in each cell line [17].\\nFor example, in Menden et al. [18], cell line features (e.g.,\\nsequence variation, copy number variation) and drug fea-\\ntures (e.g., physicochemical properties) are jointly used to\\ntrain a neural network that predicts drug sensitivities in\\nIC50 values. Drug selection has also been formulated as\\na classification problem. For example, in Stanfield et al. [19],\\ncell line profiles, and drug sensitive and resistant profiles\\nare generated from heterogeneous cell line-protein-drug\\ninteraction networks to score drugs in cell lines. The scores\\nare compared with a threshold to classify whether the drugs\\nare sensitive in the cell lines. Another focus of the existing\\nmethods is on effectively using genomics information on\\ncell lines and features on drugs to improve regression [15],\\n[12]. For example, in Ammad-ud-din et al. [20], a kernel is\\nconstructed on each type of drug and cell line features to\\nmeasure their respective similarities, and drug sensitivity is\\npredicted from the combination of projected drug kernels\\nand cell line kernels.\\nThe existing regression based methods for drug selection\\nmay suffer from the fact that the regression accuracy is\\nlargely affected by insensitive drugs, and therefore, accurate\\ndrug sensitivity regression does not necessarily lead to\\naccurate drug selection (prioritization). This is because in\\nregression models, in order to achieve small regression er-\\nrors, the majority of drug response values in a cell line needs\\nto be fit well. However, when insensitive drugs constitute\\nthe majority in each cell line, which is becoming common\\nas the advanced technologies are enabling screenings over\\nlarge collections of small molecules (e.g., in the Library of\\n3. https://dtp.cancer.gov/databases tools/docs/compare/compare\\nmethodology.htm\\n4. https://www.ncbi.nlm.nih.gov/books/NBK91994/\\nesnopserenilllec\\nsensitive drugs\\ninsensitive drugs\\ndrug index\\nFig. 2: Exemplar cell line response score distribution\\nInstead, ranking methods represent a more natural and\\neffective alternative so as to directly prioritize and select\\ndrugs. In order to enable drug selection, in the end, a\\nsorted/ranking order of drugs needs to be in place. Accurate\\npredicted cell line response values on drugs can serve to\\nsort/rank drugs in order. However, any other scores can\\nalso serve the purpose as long as they produce desired drug\\norders. This provides the opportunity for learning-to-rank\\nmethods for drug selection, which focus on learning the\\ndrug ranking structures directly (via using certain scores\\nto sort drugs). Actually, regression based drug selection\\ncorresponds to point-wise learning to rank, which has been\\ndemonstrated [22] to perform suboptimally compared to\\npairwise and listwise ranking methods. Detailed literature\\nreview on learning to rank is available in Section 2 (addi-\\ntional references are available in Section S8 in the supple-\\nmentary materials).\\nThe rest of the manuscript is organized as follows.\\nSection 2 presents the literature review on learning-to-rank\\nmethods. Section 3 presents the new pLETORg method. Sec-\\ntion 4 presents the materials used in experiments. Section 5\\npresents the experimental results. Section 6 presents the\\nconclusions.\\n2 LITERATURE REVIEW ON LEARNING TO RANK\\nLearning to Rank (LETOR) [23] focuses on developing ma-\\nchine learning methods and models that can produce ac-\\ncurate rankings of interested instances, rather than using\\n5. http://www.lincsproject.org/\\n6. https://portals.broadinstitute.org/ctrp/', 'IEEE/ACM TRANSACTIONS ON COMPUTATIONAL BIOLOGY AND BIOINFORMATICS 3\\npre-defined scoring functions to sort the instances. LETOR TABLE 1: Notations\\nis the key enabling technique in information retrieval [24]. notation meaning\\nExisting LETOR methods fall into three categories: 1). point- Cp cell line p\\nwise methods [22], which learn a score on each individual di drug i\\ninstance that will be used to sort/rank all the instances; d+/d− a sensitive/insensitive drug in a cell line\\n2). pairwise methods [25], which optimize pairwise ranking C+ p /C− p the set of sensitive/insensitive drugs in Cp\\nn+/n− the size of C+/C−\\norders among all instances to induce good ranking orders p p p p\\namong the instances; and 3) listwise methods [26], which u p/v i latent vector for cell line Cp/drug di\\nm/n the total number of cell lines/drugs\\nmodel the full combinatorial structures of ranking lists.\\nIt has been demonstrated [22] that pairwise and listwise\\nranking methods outperform pointwise methods in general. j, and cell lines are indexed by p and q. We use d+/d−\\nThis is because in pairwise and listwise methods, the order- to indicate sensitive/insensitive drugs (sensitivity labeling\\ning structures among instances are leveraged in learning, will be discussed later in Section 4.1.2) in a certain cell line,\\nwhereas in pointwise methods, no ordering information is for example, d+\\ni\\n∈ Cp or di ∈ C+\\np\\nindicates that drug di\\nused. Moreover, listwise methods are more computationally is sensitive in cell line Cp. Cell line is neglected when no\\nchallenging than the others, due to the combinatorial nature ambiguity arises.\\nof ranking lists as a whole. Thus, pairwise methods are\\nthe choice in many ranking problems, given the trade-off\\n3.1 Drug Scoring\\nbetween ranking performance and computational demands.\\nThe idea of using LETOR approaches to prioritize com- We model that the ranking of drugs in terms of their\\npounds has also drawn some recent attention [27], [28], [29]. sensitivities in a cell line is determined by their latent scores\\nFor example, Agarwal et al. [30] developed bipartite rank- in the cell line. The latent score of drug di in cell line Cp,\\ning [31] to rank chemical structures for Structure-Activity- denoted as f p (di ), is estimated as the dot product of di’s\\nRelationship (SAR) modeling such that active compounds latent vector v i ∈ Rl×1 and Cp’s latent vector u p ∈ Rl×1,\\nand inactive compounds are well separated in the ranking where l is the latent dimension, that is,\\nlists. Liu and Ning [29] developed a ranking method with f p (di ) = f(di , Cp ) = uT p v i , (1)\\nbi-directional powered push strategy to prioritize selective\\ncompounds from multiple bioassays. However, LETOR has where f(d, C) is the dot-product scoring function, and the\\nnot been widely used in prioritizing drugs in computational latent vectors u p and v i will be learned. Then all the drugs\\nmedicine domain. are sorted based on their scores in Cp. The most sensitive\\nIn LETOR, a particular interest is to improve the per- drugs in a cell line will have the highest scores and will be\\nformance on the top of the ranking lists [32], [33], that is, ranked higher than insensitive drugs. Thus, drug selection\\ninstead of optimizing the entire ranking structures, only the in pLETORg is to identify optimal drug and cell line latent\\ntop of the ranking lists will be optimized (i.e., to rank the vectors that together produce preferable cell line-specific\\nmost relevant instances on top), while the rest of the ranking drug scores and rankings. Note that in pLETORg, we look\\nlists, particularly the bottom of the ranking lists, is of little for scores f p (di ) as long as they can produce correct drug\\ninterest. An effective technique to enable good ranking rankings, but these scores are not necessarily identical to\\nperformance on top in LETOR is via push [34], [35], [27]. The drug sensitivity values (e.g., shifted drug sensitivity values\\nkey idea is to explicitly push relevant instances onto top can also produce perfect drug rankings). In addition, the\\nduring optimization. Various optimization algorithms are scoring scheme is similar to that used in some matrix factor-\\ndeveloped to deal with the non-trivial objective functions ization approaches in recommender systems research [37].\\nwhen push is involved [25], [36]. However, the latent vectors u and v will be learned via\\nlearning the top ranking structures (as will be discussed\\n3 METHODS later), not through factorizing the cell line-drug matrix.\\nWe propose the joint push and LEarning TO Rank with\\ngenomics regularization (pLETORg) for drug prioritization 3.2 Pushing up Sensitive Drugs\\nand selection. The pLETORg method learns and uses latent\\nTo enforce the high rank of sensitive drugs, we leverage\\nvectors of drugs and cell lines to score each drug in a cell\\nthe idea of ranking with push [35]. The key idea is to\\nline, and ranks the drugs based on their scores (Section 3.1).\\nquantitatively measure the ranking positions of drugs, and\\nDuring the learning process, pLETORg explicitly pushes the\\nlook for ranking models that can optimize such quantita-\\nsensitive drugs on top of the ranking lists that are produced\\ntive measurement so as to rank sensitive drugs high and\\nby the prospective latent vectors (Section 3.2), and optimizes insensitive drugs low. In pLETORg, we use the height of an\\nthe ranking orders among sensitive drugs (Section 3.3) insensitive drug d− i in Cp, denoted as h f (d− i , Cp ), to measure\\nsimultaneously. In addition, pLETORg uses genomics infor- its ranking position in Cp [35] as follows,\\nmation on cell lines to constrain cell line latent vectors\\n(cid:88)\\n(Section 3.4). The following sections describe pLETORg in h f (d− i , Cp ) = I(f p (d+ j ) ≤ f p (d− i )), (2)\\ndetail. The supplementary materials are available online7. d+\\nj\\n∈C+\\np\\nTable 1 presents the key notations used in the\\nmanuscript. In this manuscript, drugs are indexed by i and where C+ p is the set of sensitive drugs in cell line Cp, f is\\nthe drug scoring function (Equation 1), f p (d+ j ) and f p (d− i )\\n7. http://cs.iupui.edu/∼liujunf/projects/CCLERank/ are the scores of d+ j and d− i in Cp, respectively, and I(x) is', 'IEEE/ACM TRANSACTIONS ON COMPUTATIONAL BIOLOGY AND BIOINFORMATICS 4\\nβ γ\\nE th s e se i n n t d ia ic ll a y t , o h r f f ( u d n − i c , t C io p n ) i ( s I( t x h ) e n = um 1 b if er x o i f s se tr n u s e it , iv o e th d e r r u w g i s se th 0 a ) t . m U, i V n L f = (1 − α)P f ↑ + αO f + + 2 R uv + 2 R csim , (6)\\na th re e s r c a o n r k i e n d g b fu e n lo c w tio t n he f. insensitive drug d− i in cell line Cp by where L f is the overall loss function; P f ↑ and O f +\\nare defined in Equation 3 and Equation 5, respectively;\\nTo push sensitive drugs higher in a cell line, it is to U = [u 1 , u 2 , · · · , u m ] and V = [v 1 , v 2 , · · · , v n ] are the la-\\nminimize the total height of all insensitive drugs in that\\ntent vector matrices for cell lines and drugs, respectively\\ncell line To push sensitive drugs higher in a cell line, the (U ∈ Rl×m, V ∈ Rl×n, where l is the latent dimension);\\ntotal height of all insensitive drugs in that cell line should α (α ∈ [0, 1]) is a weighting parameter to control the\\nbe minimized (i.e., minimize the total number of sensitive contribution from push (i.e., P↑ ) and ranking (i.e., O+); β\\ndrugs that are ranked below insensitive drugs). Thus, for all f f\\nand γ are regularization parameters (β ≥ 0, γ ≥ 0) on the\\nthe cell lines, it is to minimize their total heights, denoted as\\nP f ↑ , that is, P f ↑ = p (cid:88) m =1 n+ p 1 n− p d− i (cid:88) ∈Cp h f (d− i , Cp ), (3) t o w ve o I r n fi re t P g ti r u n o l g b a , l r e i d z m e e fi r 6 s n , R e R R d u u u v a v v s = a is n m a d 1 r R (cid:107) e U g cs u (cid:107) im l 2 F a , r r + i e z s e n 1 p r e (cid:107) o c V n ti (cid:107) v U 2 F el , a y n . d V to preve ( n 7) t\\nwhere m is the number of cell lines, and n+ and n− are the\\nnumbers of sensitive and insensitive drug p s in cell p line Cp. where (cid:107)X(cid:107) F is the Frobenius norm of matrix X. R csim is a\\nThe normalization by n+ and n− is to eliminate the effects regularizer on cell lines to constrain cell line latent vectors,\\np p\\ndefined as\\nfrom different cell line sizes.\\n1 (cid:88) m (cid:88) m\\nR csim = m2 w pq (cid:107)u p − u q (cid:107)2 2 , (8)\\n3.3 Ranking among Sensitive Drugs\\np=1 q=1\\nIn addition to pushing sensitive drugs on top of insensitive where w pq is the similarity between Cp and Cq that is\\ndrugs, we also consider the ranking orders among sensitive calculated using genomics information of the cell lines (e.g.,\\ndrugs in order to enable fine-grained prioritization among gene expression information). The underlying assumption is\\nsensitive drugs. Specifically, we use di (cid:31) R dj to represent that if two cell lines have similar patterns in their genomics\\nthat di is ranked higher than dj in the relation R. We use data (i.e., large w pq), they will be similar in their cell line\\nconcordance index (CI) to measure drug ranking structures response patterns, and thus similar latent vectors [17].\\ncompared to the ground truth, which is defined as follows, The Problem 6 involves an indicator function (in Equa-\\n1 (cid:88) tion 2, 4), which is not continuous or smooth. Thus, we use\\nCI({di }, C, f) = |{di (cid:31)\\nC\\ndj }|\\ndi(cid:31) Cdj\\nI(di (cid:31) f dj ), (4) the logistic function as its surrogate [34], that is,\\nI(x ≤ y) ≈ log[1 + exp(−(x − y))] = − log σ(x − y), (9)\\nwhere {di } is the set of drugs in cell line C, {di (cid:31)\\nC\\ndj } is\\nthe set of ordered pairs of drugs in cell line C (di (cid:31)\\nC\\ndj where σ(x) is a sigmoid function, that is, σ(x) =\\n1+ex\\n1\\np(−x)\\n.\\nrepresents that di is more sensitive, and thus ranked higher, The optimization algorithm for pLETORg optimization is\\nthan dj in C), f is the scoring function (Equation 1) that presented in Algorithm S1 in supplementary materials. We\\nproduces an estimated drug ranking, di (cid:31) f dj represents use alternating minimization with gradient descent (details\\nthat di is ranked higher than dj by f, and I is the indicator in Section S2 in supplementary materials) to solve the opti-\\nfunction. Essentially, CI measures the ratio of correctly mization Problem 6.\\nordered drug pairs by f among all possible pairs. Higher Since the number of drugs pairs is quadratically larger\\nCI values indicate better ranking structures. than the number of drugs, it could be computationally\\nTo promote correct ranking orders among sensitive expensive to use all the drug pairs during training. To solve\\ndrugs in all the cell lines, we minimize the objective O+, this issue, we develop a sampling scheme. During each\\nf\\ndefined as the sum of 1 − CI values (i.e., the ratio of mis- iteration of training, we use all the sensitive drugs in each\\nordered drug pairs among all pairs) over the sensitive drugs cell line but randomly sample a same number of insensitive\\nof all the cell lines, as follows, drugs from each respective cell line. This process is repeated\\nm for a number of times and then the average gradient is used\\n(cid:88)\\nO\\nf\\n+ = [1 − CI({d+\\ni\\n}, Cp , f)] to update U and V . This sampling scheme will significantly\\np=1 speed up the optimization process.\\n(cid:88) m 1 (cid:88) (5)\\n=\\n|{d+ (cid:31) d+}|\\nI(d+\\ni\\n≺\\nf\\nd+\\nj\\n).\\n4 MATERIALS\\np=1 i Cp j d+\\ni\\n(cid:31)\\nCp\\nd+\\nj\\n4.1 Dataset and Experimental Protocol\\n3.4 Overall Optimization Problem for pLETORg We use the cell line data and drug sensitivity data from\\nCancer Cell Line Encyclopedia (CCLE) 8 and Cancer Ther-\\nOverall, we seek the cell line latent vectors and drug latent apeutics Response Portal (CTRP v2) 9 (both accessed on\\nvectors that will be used in drug scoring function f (Equa-\\n10/14/2016), respectively. CTRP provides the cell line re-\\ntion 1) such that for each cell line, the sensitive drugs will be\\nsponses to different drugs. The response is measured using\\nranked on top and in right orders using the latent vectors.\\nIn pLETORg, such latent vectors are learned by solving the 8. https://portals.broadinstitute.org/ccle/home\\nfollowing optimization problem: 9. https://portals.broadinstitute.org/ctrp/', 'IEEE/ACM TRANSACTIONS ON COMPUTATIONAL BIOLOGY AND BIOINFORMATICS 5\\nsenilllec\\nC5\\nC4\\nC3\\nC2\\nC1\\nd1 d2 d3 d4 d5 d6 d7 d8 d9 d10\\ndrugs\\ntraining drug testing drug\\nFig. 3: Data split for 5-fold cross validation\\nsenilllec\\nC5\\nC4\\nC3\\nC2\\nC1\\nd1 d2 d3 d4 d5 d6 d7 d8 d9 d10\\ndrugs\\ntraining cell lines testing cell lines\\nFig. 4: Data split for testing new cell lines\\nTABLE 2: Dataset Description\\n4.1.1.2 Leave-Out Validation: We also conduct ex-\\nm n #genes #AUCs #mAUCs #d/C #C/d periments in a different setting as indicated in Fig. 4, that is,\\n821 545 20,068 357,052 90,393 435 655 we hold out entire cell lines into the testing data so that in\\ntraining data, the held-out cell lines have no drug response\\nThe columns of “m”, “n” and “#genes” have the number of cell lines, drugs and\\ngenes in the dataset, respectively. The columns of “#AUCs” and “#mAUCs” information at all. This corresponds to the use scenario to\\nhave the total number of available response values and missing response val- select sensitive drugs for new cell line/new patients. Details\\nues, respectively. The column of “#d/C” has the average number of available\\non how to hold out cell lines will be discussed later in\\ndrug response values per cell line. The column of “#C/d” has the average\\nnumber of cell lines that have response values for each drug. Section 5.3.\\narea-under-concentration-response curve (AUC) sensitivity 4.1.2 Sensitivity Labeling Scheme\\nscores. Lower response (AUC) scores indicate higher drug\\n4.1.2.1 Labeling Scheme for N-Fold Cross Valida-\\nsensitivities. CCLE provides the expression information\\ntion: In the 5-fold setting (Fig. 3), for each cell line, we\\nover a set of genes for each of the cell lines. Larger expres- use a certain percentile θ (e.g., θ=5) of all its response\\nsion values indicate higher gene expression levels. CCLE\\nvalues in the training set as a threshold to determine drug\\nalso provides other omics data for the cell lines (e.g., copy\\nsensitivity in that cell line. Thus, the sensitivity threshold is\\nnumber variations). In this manuscript, we only use gene\\ncell line specific. It is only selected from the training data\\nexpression information, as it is demonstrated as the most\\nof respective cell lines (i.e., testing data are not used to\\npertinent to cell line response [17]. The use of other omics\\ndetermine the threshold as they are considered as unknown\\ndata will be explored in the future research. This dataset has\\nduring training). Drugs in both the training set and testing\\nlarge numbers of both cell lines and drugs. Table 2 presents\\nset are then labeled as sensitive in the respective cell line\\nthe description of the dataset used in the experiments. Note\\nif the cell line has lower response values on the drugs than\\nthat in the dataset, about 20% of the drug sensitivity values\\nthe threshold (lower AUC scores indicate higher sensitivity),\\nare missing. For the drugs which do not have response\\notherwise, the drugs are labeled as insensitive. The reason\\nvalues in a cell line, we do not use the drugs in learning\\nwhy a cell-line-specific percentile threshold is used for sen-\\nthe corresponding cell line latent vector.\\nsitivity labeling is that there lacks a pre-defined threshold\\nof sensitivity scores for each of the cell lines to determine\\n4.1.1 Experimental Setting\\nsensitivity labels. Meanwhile, given the heterogeneity of\\nWe had two experimental settings for the experiments. cell lines, we cannot apply the same threshold for different\\n4.1.1.1 N-Fold Cross Validation: In the first setting, cell lines. The idea of using sensitivity score percentile as\\nwe split drug sensitivity data for each cell line into a train- a threshold is very similar to that in Speyer et al. [21], in\\ning and a testing set, and conduct 5-fold cross validation which the outliers with low sensitivity scores are labeled as\\nto evaluate model performance. Fig. 3 demonstrates the sensitive.\\ntraining-testing splits. For each cell line, its drug sensitivity 4.1.2.2 Labeling Scheme for Testing New Cell Lines:\\ndata are randomly split into 5 folds. One of the 5 folds is In the second setting with new cell lines (Fig. 4), since\\nused as testing set and the other four folds are used for the new cell lines have no drug response information in\\ntraining. This is done 5 times, until each of the five folds training, we use a percentile threshold from the testing data\\nhas served as testing data. The final results are the average (i.e., the new cell lines; the ground truth) to label sensitivities\\nover the 5 folds. This experimental setting corresponds to of the drugs in the new cell lines.\\nthe application scenario in which additional drugs (i.e., the\\ntesting data) need to be selected for each cell line/patient. 4.2 Baseline Methods\\nDuring the data split, we ensure that for each of the\\nWe use two strong baseline methods for comparison:\\ndrugs, there is at least one cell line in the training set that\\nthe Bayesian Multi-Task Multi-Kernel Learning (BMTMKL)\\nhas response information for that drug. This is to avoid the\\nmethod and the Kernelized Rank Learning (KRL) method.\\nsituation in which drugs in the testing set do not have infor-\\nmation during training, or the use scenario in which brand- 4.2.1 Bayesian Multi-Task Multi-Kernel Learning (BMTMKL)\\nnew compounds need to be selected for further testing. The\\nBMTMKL [17], winning method for DREAM 7 challenge 10,\\nlatter will be studied in future research. We also ensure that\\nwas originally developed to rank cell lines with respect to\\neach cell line has drug sensitivities in the training set to\\navoid the situation of brand-new cell lines. This situation\\n10. http://dreamchallenges.org/project/dream-7-nci-dream-drug-\\nwill be studied in the second experimental setting. sensitivity-prediction-challenge/', 'IEEE/ACM TRANSACTIONS ON COMPUTATIONAL BIOLOGY AND BIOINFORMATICS 6\\na drug based on their responses to the drug. In BMTMKL, methods. Higher AP@k values indicate that the sensitive\\ncell line ranking for each drug is considered a task. All the drugs are ranked higher on average.\\ncell line rankings are learned simultaneously in a multi- We define a second metric average-hit at k (AH@k) as the\\ntask learning framework. Multiple kernels are constructed average number of sensitive drugs that are ranked among\\nfrom multiple types of omics data for cell lines to quantify top k of a ranking list, that is,\\ntheir similarities. The multi-task and multi-kernel learning\\nk\\ni\\ni\\ns\\nnf\\nc\\ne\\no\\nre\\nn\\nn\\nd\\nc\\nu\\ne\\nct\\nf\\ne\\no\\nd\\nr\\nw\\npa\\nit\\nr\\nh\\nam\\nin\\ne\\na\\nte\\nk\\nr\\ne\\ne\\nr\\ns\\nn\\nt\\ne\\nim\\nliz\\na\\ne\\nt\\nd\\nion\\nre\\n.\\ng\\nT\\nr\\nh\\nes\\nu\\ns\\ns\\ni\\n,\\non\\nBM\\nw\\nTM\\nit\\nK\\nh\\nL\\nB\\np\\na\\nr\\ny\\ne\\ne\\nd\\ns\\ni\\ni\\nc\\na\\nt\\nn\\ns\\nAH@k({di }, C, f) = (cid:88) I(d→−\\nj\\n∈ C+). (12)\\nj=1\\ndrug response values via the regression and uses the values\\nHigher AH@k values indicate that more sensitive drugs are\\nfor cell line ranking, that is, BMTMKL is a point-wise learning-\\nranked among top k.\\nto-rank method.\\nWe also use CI as defined in Equation 4 to evaluate\\nNote that the drug ranking problem we are tackling in\\nthe ranking structures among only sensitive drugs. In this\\nthis manuscript is a different problem compared to the cell\\ncase, we denote CI specifically as sCI (i.e., CI for sensitive\\nline ranking problem that BMTMKL is designed to tackle. The\\ndrugs), and thus by default, CI evaluates the entire ranking\\ncell line ranking problem corresponds to the application\\nstructures of both sensitive and insensitive drugs, and sCI\\nscenario in which cell lines/patients need to be selected to\\nis only for sensitive drugs. Note that sCI (CI) and AP@k\\ntest a given drug. The drug ranking problem corresponds to\\nmeasure different aspects of a ranking list. The sCI (CI)\\nthe application scenario in which drugs need to be selected\\nmetric measures whether the ordering structure of a ranking\\nto treat a given cell line/patient. Still, BMTMKL can be used\\nlist is close to its ground truth, while AP@k measures\\non drug ranking problems by switching the roles of “drugs”\\nwhether the relevant instances (i.e., sensitive drugs in this\\nand “cell lines”, and the predicted drug response values can\\nmanuscript) are ranked on top. A high AP@k does not nec-\\nalso be used for drug ranking.\\nessarily indicate the ordering among the top-ranked drugs\\n4.2.2 Kernelized Rank Learning (KRL) is correct. Similarly, a high sCI (CI) does not necessarily\\nlead to that the most sensitive drugs being ranked on top,\\nKRL [13] learns a ranking structure of drugs in each cell\\nparticularly when there are many insensitive drugs in the\\nline by approximating the sensitivity values of drugs in the\\nlist. In this manuscript, both the drug sensitivity and the\\ncell line via a kernelized regression. The kernel matrix is\\nordering of sensitive drugs are of concern. That is, we\\nconstructed from the gene expression profiles of cell lines.\\nwould like to ensure that sensitive drugs are ranked higher\\nDuring learning, KRL optimizes the Normalized Discounted\\nthan insensitive drugs, and meanwhile, the sensitive drugs\\nCumulative Gain (NDCG@k) [10], a popular metric in learn-\\nare well ordered in terms of their relative sensitivities (i.e.,\\ning to rank, to rank the most sensitive drugs of each cell line\\namong all sensitive drugs, drugs that are more sensitive are\\namong top k of the drug ranking list. Therefore, KRL is a\\nranked higher than those that are less sensitive).\\nlist-wise learning-to-rank method.\\n4.4 Gene Selection and Cell Line Similarities\\n4.3 Evaluation Metrics\\nWe use gene expression information to measure cell line\\nWe first introduce the evaluation metrics that are used in similarities (i.e., w pq as in Equation 8) and regularize our\\nmost of the experiments. Other metrics that are used in ranking models (i.e., w pq (cid:107)u p − u q (cid:107)2 2 as in Equation 8). It is\\nspecific experiments will be introduced later when they are\\nwell accepted that not all the genes are informative to cell\\napplied. The first metric that we use to evaluate the perfor- line response to drugs [17], and thus we use (cid:96) 1 regularized\\nmance of BMTMKL and pLETORg is the average-precision at k\\nlinear regression to conduct feature selection over gene\\n(AP@k) [10]. It is defined as the average of precisions that\\nexpression data to select informative genes with respect\\nare calculated at each ranking position of sensitive drugs to each drug. It is well known that the (cid:96) 1 regularization\\nthat are ranked among top k in a ranking list, that is,\\nwill promote sparsity in the solution, in which the non-\\nk zero values will indicate useful independent variables (in\\n(cid:88)\\nPrec({d→− , · · · , d→− }, C+, f) · I(d→− ∈ C+) our case, genes). To select informative genes, the gene\\n1 j j\\nAP@k({d }, C, f) = j=1 , expression values over all the cell lines are considered as\\ni (cid:88) k independent variables and the response values on each\\nI(d→− ∈ C+)\\nj drug from all the cell lines are considered as dependent\\nj=1\\nvariables. If a cell line has no response value on a drug, the\\n(10)\\nwhere d→− is the drug that is ranked at position j by f, gene expression information of that cell line is not used. A\\nI(d→− ∈ j C+) checks whether d→− is sensitive in C in the linear least-squares regression with (cid:96) 1 and (cid:96) 2 regularization\\nj j (i.e., elastic net) is applied over these variables so as to\\nground truth, and Prec is defined as\\nselect informative genes for each drug. The regularization\\nPrec({d(cid:42) 1 , · · · , d→− j }, C+, f) = (cid:88) j I(d(cid:42) i ∈ C+) (cid:14) j, (11) p id a e r n a t m ifi e e t d er v s i o a v r e e r g t u h l e ar (cid:96) i 1 za re ti g o u n la p r a iz th er [3 a 8 n ] d . F th ig e . (cid:96) S 2 1 r i e n gu th la e r s iz u e p r p a l r e e -\\ni=1 mentary materials demonstrates the regression method for\\nthat is, it is calculated as the ratio of sensitive drugs among gene selection. The union of all the selected genes for all the\\ntop-j ranked drugs. Thus, AP@k considers the ranking drugs will be used to calculate cell line similarities. In the\\npositions of sensitive drugs that are ranked among top k end, 1,203 genes are selected. The list of the selected genes\\nof a ranking list. It is a popular metric to evaluate LETOR is available Section S9 in the supplementary materials. We', 'IEEE/ACM TRANSACTIONS ON COMPUTATIONAL BIOLOGY AND BIOINFORMATICS 7\\nTABLE 3: Performance on Ranking New Drugs\\nsthr method parameters performance\\nBMTMKL α b β b usim σ AP@5 AH@5 AP@10 AH@10 sCI CI\\n1.0e-10 1.0e+10 RBF 10.0 0.740 1.702 0.711 2.072 0.646 0.812\\nk λ usim σ AP@5 AH@5 AP@10 AH@10 sCI CI\\nKRL\\nθ = 2 10 1.0e-06 RBF 0.001 0.753 1.784 0.725 2.137 0.673 0.702\\n10 1.0e-05 LIN - 0.668 1.620 0.642 2.065 0.683 0.745\\nl α β γ usim σ AP@5 AH@5 AP@10 AH@10 sCI CI\\n50 1.0 1.0 100.0 COS - 0.686 1.606 0.663 1.938 0.680 0.770\\npLETORg\\n30 0.1 1.0 100.0 RBF 10.0 0.527 1.291 0.505 1.809 0.505 0.805\\n10 0.0 0.1 100.0 COS - 0.783 1.856 0.758 2.159 0.639 0.774\\n10 0.0 0.1 0.0 COS - 0.780 1.851 0.755 2.157 0.631 0.786\\nBMTMKL α b β b usim σ AP@5 AH@5 AP@10 AH@10 sCI CI\\n1.0e-10 1.0e+10 RBF 10.0 0.828 2.736 0.772 3.761 0.652 0.812\\nk λ usim σ AP@5 AH@5 AP@10 AH@10 sCI CI\\nKRL 10 1.0e-06 RBF 0.001 0.817 2.715 0.761 3.798 0.676 0.762\\nθ = 5 10 1.0e-04 LIN - 0.789 2.580 0.730 3.690 0.689 0.756\\n10 1.0e-05 RBF 0.0001 0.796 2.547 0.736 3.560 0.660 0.768\\nl α β γ usim σ AP@5 AH@5 AP@10 AH@10 sCI CI\\n50 1.0 1.0 100.0 RBF 10.0 0.780 2.376 0.721 3.228 0.699 0.726\\npLETORg 30 0.5 0.1 100.0 COS - 0.744 2.461 0.687 3.581 0.516 0.810\\n50 0.0 0.1 100.0 COS - 0.857 2.919 0.805 3.934 0.663 0.742\\n10 0.5 1.0 100.0 RBF 10.0 0.855 2.965 0.806 3.986 0.658 0.804\\n10 0.5 0.1 0.0 COS - 0.855 2.965 0.806 3.985 0.658 0.804\\nThe columns corresponding to “αb”, “βb”, “usim”, and “σ” have the two hyperparameters, cell line similarity function, and parameter for RBF cell line similarity,\\nrespectively, for BMTMKL. The columns corresponding to “k”, “λ”, “usim”, and “σ” have the two hyperparameters, cell line similarity function, and parameter for\\nRBF cell line similarity, respectively, for KRL. The columns corresponding to “l”, “α”, “β”, “γ”, “usim”, and “σ” have the latent dimension, weighting factor, latent\\nvector regularization parameter, cell line similarity regularization parameter, cell line similarity function, and parameter for RBF cell line similarity, respectively, for\\npLETORg. The best performance of each method under each metric is in bold. The best performance of both the methods under each metric is underscored.\\nuse cosine similarity function (COS) and radial basis function in Table S2, S3, S4, S5, S6 and S7 in the supplementary\\n(RBF) over the selected genes (these genes are considered as materials. Table 3 presents the overall performance.\\ncell line features) to calculate the similarities between cell\\nlines. For KRL, we also use a linear kernel (LIN), following 5.1.1 Overall Comparison\\nthe experimental setting as in He et al. [13], to calculate cell 5.1.1.1 2 Percentile as Sensitivity Threshold: When\\nline similarities over the selected genes. 2 percentile of the response values (i.e., θ=2) in training\\ndata is used as the sensitivity threshold, pLETORg achieves\\nits best AP@5 value 0.783, and it is 5.81% higher than\\n5 EXPERIMENTAL RESULTS the best AP@5 value 0.740 of BMTMKL (p-value=3.565e-8),\\nand 3.98% higher than the best AP@5 value 0.753 of KRL\\n5.1 Ranking New Drugs\\n(p-value=9.400e-3). In terms of AP@10, pLETORg achieves\\nWe first compare the performance of BMTMKL, KRL and its best value 0.758, and it is 6.61% higher than 0.711 of\\npLETORg on ranking new drugs in each cell line (i.e., ranking BMTMKL (p-value=7.994e-10) and 4.55% higher than the best\\ntesting drugs among themselves in each cell line). The AP@10 value 0.725 of KRL (p-value=6.811e-4). Meanwhile,\\nexperiments follow the protocol as indicated in Fig. 3. Note pLETORg achieves higher AH@5 and AH@10 compared to\\nthat notion of “new drugs” is with respect to each cell line, those of BMTMKL (1.856 vs 1.702, p-value=3.379e-11; 2.159 vs\\nand a new drug in a cell line could be known in a different 2.072, p-value=5.805e-8) and compared to those of KRL (1.856\\ncell line. vs 1.784, p-value=2.900e-3; 2.159 vs 2.137, p-value=5.489e-\\nWe use 2 percentile (i.e., θ=2) and 5 percentile (i.e., θ=5) 1). In particular, pLETORg achieves its best AP@k and\\nas discussed in Section 4.1.2 to label sensitivity. Although AH@k values when α=0.0, that is, when the push term\\nthe baseline methods and pLETORg do not rely on specific P↑ in Problem 6 is the only objective to optimize. The\\nf\\nlabeling schemes, the small percentiles make the drug selec- results demonstrate that pLETORg is strong in pushing more\\ntion problem realistic. This is because in real practice, only sensitive drugs on top of ranking lists and thus better pri-\\nthe top few most sensitive drugs will be of great interest. oritizes sensitive drugs for drug selection. On the contrary,\\nHowever, given that the sensitive drugs are few, the drug BMTMKL focuses on accurately predicting the response value\\nselection problem is very non-trivial. of each drug in each cell line. However, accurate point-\\nFor the baseline methods and pLETORg we conduct a grid wise response prediction does not guarantee that the most\\nsearch for each of their parameters, and present the results sensitive drugs are promoted onto the top of ranking lists in\\nthat correspond to the best parameter combinations. The full BMTMKL. KRL focuses on optimizing NDCD@k among top-k\\nset of experimental results over all parameters is available ranked drugs. However, it may heavily rely on the definition', 'IEEE/ACM TRANSACTIONS ON COMPUTATIONAL BIOLOGY AND BIOINFORMATICS 8\\nAP@5 AP@10 sCI CI\\n0.79\\n0.76\\n0.73\\n0.62\\n0.59\\n00.0 50.0 01.0 05.0 00.1\\n0.80\\n0.77\\n0.74\\n0.71\\n0.68\\n0.65\\n0.62\\n01\\n@PA/5\\n@PA\\nIC/ICs\\n0.87\\n0.83\\n0.79\\n0.75\\n0.71\\n0.67\\nα\\n(a) θ=2, l=10\\n0.0 50.0 01.0 05.0 00.1\\n0.81\\n0.79\\n0.77\\n0.71\\n0.68\\n0.65\\n01\\n@PA/5\\n@PA\\nIC/ICs\\n0.79\\n0.77\\n0.75\\n0.73\\n0.71\\nα\\n(b) θ=5, l=10\\nFig. 5: Performance of pLETORg w.r.t. the Push Parameter α\\n5 01 51 03 05\\n0.80\\n0.74\\n0.68\\n0.62\\n01\\n@PA/5\\n@PA\\nIC/ICs\\n0.86\\n0.83\\n0.80\\n0.77\\n0.74\\n0.71\\n0.68\\nl\\n(a) θ=2, α=0.0\\n5 01 51 03 05\\n0.81\\n0.74\\n0.66\\n0.58\\n0.50\\n01\\n@PA/5\\n@PA\\nIC/ICs\\nl\\n(b) θ=5, α=0.5\\nFig. 6: Performance of pLETORg w.r.t. the Latent Dimension l\\nof the “gain” of a drug at a certain position, and thus larger ranking relations among insensitive drugs, and considered\\ngain may not directly lead to more sensitive drugs on top. also its high sCI values and median AP@k values, this result\\nOn the other hand, pLETORg achieves an sCI value 0.639 may indicate that KRL tends to rank some drugs that are very\\nwhen it achieves its best AP@k values (i.e., when l=10, insensitive higher than sensitive drugs and higher than the\\nα=0.0, β=0.1 and γ=100.0 for pLETORg). Compared to the drugs that are less insensitive.\\nsCI value 0.646 of BMTMKL when BMTMKL achieves its best 5.1.1.2 5 Percentile as Sensitivity Threshold: When\\nAP@k values, pLETORg does not outperform BMTMKL on sCI. 5 percentile of the response values (i.e., θ=5) is used as the\\nHowever, the difference is not significant (-1.08% increase; sensitivity threshold, pLETORg shows similar behaviors as\\np-value=3.117e-1). Note that when α=0.0, the ranking or- in 2 percentile case. That is, in terms of AP@5, pLETORg\\nders among sensitive drugs are not explicitly optimized (0.855 when l=10, α=0.5, β=0.1 and γ=100.0; 0.857 when\\nin Problem 6. Despite this, pLETORg is able to produce l=50, α=0.0, β=0.1 and γ=100.0) outperforms BMTMKL (0.828)\\nranking orders that are very competitive to those from at 3.26% (p-value=2.479e-6), in terms of AP@10 at 4.40%\\nBMTMKL. In terms of sCI, the best performance of pLETORg (0.806 vs 0.772; p-value=1.511e-11), and in terms of AH@5\\n(0.680) and the best performance of BMTMKL (0.646) are both at 8.37% (2.965 vs 2.736; p-value=2.019e-16) and AH@10\\nworse than that of KRL (0.683) (for pLETORg, -0.44% increase at 5.98% (3.986 vs 3.761; p-value=2.23e-18). When pLETORg\\nwith p-value=5.480e-1; for BMTMKL, -5.42% increase with p- achieves its best AP@k and AH@k, in terms of sCI, pLETORg\\nvalue=4.900e-3). Given the low AP@k and AH@k values achieves similar performance as BMTMKL (0.658 vs 0.652; p-\\nof KRL, this may indicate that KRL tends to sort sensitive value=2.500e-1), and in terms of CI, pLETORg is significantly\\ndrugs slightly better than pLETORg and BMTMKL, but does not worse than BMTMKL (0.804 vs 0.812; p-value=3.341e-10). KRL\\nnecessarily rank them on top. Different from KRL, pLETORg performs similarly at θ=5 as at θ=2, that is, on average, it is\\nis able to prioritize sensitive drugs on top while maintaining worse than pLETORg at AP@k, AH@k and CI, but slightly\\nthe orders among sensitive drugs reasonably well, which is better at sCI when both achieve their optimal AP@k and\\na preferred scenario in drug selection. AH@k.\\nIn addition, pLETORg achieves a CI value 0.774 together In particular, the AP@5 and AP@10 improvement for\\nwith its best AP@k values, but BMTMKL achieves a CI value pLETORg at θ=2 is larger than that at θ=5, respectively (i.e.,\\n0.812 with its best AP@k values, which is significantly better 5.81% vs 3.26% at AP@5, 6.61% vs 4.40% at AP@10). This\\n(4.91% better than pLETORg, p-value=1.966e-123). As a mat- indicates that pLETORg is good at prioritizing drugs particu-\\nter of fact, the best CI value that pLETORg ever achieves (i.e., larly when there are a small number of sensitive drugs. Note\\n0.805 when l=30, α=0.1, β=1.0, γ=100.0) is still significantly that in Table 3, for θ=2 and θ=5, the CI values in BMTMKL\\nworse than that of BMTMKL (i.e., 0.812, p-value=4.862e-6). As are identical. This is because BMTMKL does not use labels in\\nBMTMKL optimizes the predicted response values, the results training, and its performance in terms of CI does not depend\\nindicate that BMTMKL is able to reproduce the entire drug on labels. On the contrary, sCI depends on the labels as\\nranking structures well using the predicted values. Different it only measures CI within sensitive drugs. Therefore, sCI\\nfrom BMTMKL, pLETORg aims to push only sensitive drugs values of BMTMKL for θ=2 and θ=5 are different. However,\\non top of the ranking structures and optimize only the pLETORg relies on labels during push and ranking in order to\\nranking structures of those sensitive drugs (when α > 0). learn the models, and thus, labels will affect its performance\\nTherefore, pLETORg is not able to well estimate the entire in both CI and sCI.\\nranking structures for both sensitive and insensitive drugs. In Table 3, the optimal pLETORg results always corre-\\nHowever, in drug selection, the top ranked drugs could spond to non-zero γ values (i.e., the parameter on cell\\nbe of great interest compared to those lower-ranked drugs, line similarity regularizer in Problem 6). This indicates that\\nand therefore, the low CI performance of pLETORg can be cell line similarities calculated from the gene expression\\ncompensated by its high sCI, AP@k and AH@k values. information are able to help improve the ranking of drug\\nCompared to pLETORg and BMTMKL, KRL achieves the worst sensitivities in pLETORg. The results in Table 3 also show\\nCI (0.745). Given the fact that KRL does not model the that the optimal performance of pLETORg is from a relatively', 'IEEE/ACM TRANSACTIONS ON COMPUTATIONAL BIOLOGY AND BIOINFORMATICS 9\\nsmall latent space with l=10. This may be due to the fact that Considering computational costs, we do not explore other\\nthe sampling scheme significantly reduces the size of train- even larger latent dimensions.\\ning instances, and thus small latent vectors are sufficient to\\nrepresent the learned information for drug prioritization.\\n5.2 Ranking New and Known Drugs\\nWe evaluate the performance of pLETORg on ranking both\\n5.1.2 Performance of pLETORg over Push Powers\\nnew drugs (i.e., testing drugs) and known drugs (i.e., train-\\nFig. 5 presents the best pLETORg performance on each of the\\ning drugs) together in the experimental setting as in Fig. 3.\\nfour metrics with respect to different push parameter α’s\\nThis corresponds to the use scenario in which new drugs\\nwhen l=10 (i.e., the latent dimension corresponding to the\\nneed to be compared with known drugs so as to select the\\nbest AP@k values in Table 3). Fig. 5(a) and 5(b) show that in\\nmost promising drugs among all available (i.e., both new\\ngeneral as α increases (i.e., decreasing emphasis on pushing\\nand known) drugs. In this case, we focus on evaluating\\nsensitive drugs on top), AP@k values decrease. When α=1.0,\\nwhether most of the true sensitive drugs can be prioritized.\\nthat is, no push takes effect, the AP@k values become\\nlower than those when α < 1. This demonstrates the effect 5.2.1 Evaluation Metrics\\nof the push mechanism in prioritizing sensitive drugs in\\nThe evaluation is based on the following two specific met-\\npLETORg. The figures also show that the optimal sCI values\\nrics. The first metric, denoted as AT@k, measures among\\nare achieved when α ∈ (0, 1), but not at α=1.0 when the\\nthe top-k most sensitive drugs of each cell line in the\\nranking structure among sensitive drugs is the only focus.\\nground truth (including both training and testing drugs),\\nThis is probably due to that the ranking difference between\\nwhat percentage of them are ranked still among top k in the\\nsensitive and insensitive drugs involved in the push term\\nP↑\\ncan also help improve the ranking among sensitive\\nprediction, that is,\\nf\\nv d a ru lu g e s s . a In re a a d c d h i i t e i v o e n d , t w he he fi n g α ure ∈ s ( s 0 h , o 1 w ). T th h a is t i t s he be o c p au ti s m e a w l i C th I AT@k({di }, C, f) = (cid:88) I(d→− j ∈ t k op-k(C)) , (13)\\nvery small α values, sensitive drugs are strongly pushed d j ∈top-k(C)\\nbut it does not necessarily result in good ranking structures where d→− is the drug that is ranked at position j by f, and\\namong all sensitive and insensitive drugs. Similarly, when j\\ntop-k(C) is the set of top-k most sensitive drugs in cell line\\nα is very large, the ranking structures among only sensitive\\nC.\\ndrugs are highly optimized, which does not necessarily lead\\nThe second metric, denoted as NT@k, measures among\\nto good ranking structures among all drugs either. Thus,\\nthe new drugs that should be among the top-k most sen-\\nthe best overall ranking structures are achieved under a\\nsitive drugs of each cell line in the ground truth, what\\ncombinatorial effect of both the push and the sensitive drug\\npercentage of them are ranked actually among top k in the\\nranking.\\nprediction, that is,\\n(cid:88)\\n5.1.3 Performance of pLETORg over Latent Dimensions I(d→− ∈ top-k(C))\\nj\\nFig. 6 presents the best pLETORg performance on each of NT@k({di }, C, f) = d j (cid:88) is new . (14)\\nthe four metrics with respect to different latent dimension I(dj ∈ top-k(C))\\nl. Fig. 6(a) and 6(b) show that in general, small latent\\ndimensions (e.g., l in 10 to 15) are sufficient in order to d j is new\\nachieve good results on drug ranking. We interpret each The reason why AP@k and AH@k are not used in this\\ndimension in the drug latent vectors and cell line latent experimental setting is that they can be easily dominated\\nvectors as to represent a certain latent feature that together by known drugs (i.e., training data). This is because they\\ndetermine drug rankings in each cell line. Thus, the small are defined for top-k ranked drugs. It is very likely that\\nlatent dimensions indicate that the learned latent vectors the top-k ranked drugs, when known and new drugs are\\nare able to capture latent features that are specific to drugs considered together, are actually known drugs since they\\nand cell lines. are explicitly optimized to be on top during the training\\nOn the other hand, as AP@k tends to decrease as l process (for pLETORg and KRL). Different from AP@k and\\nincreases, sCI tends to increase. This indicates that larger AH@k, AT@k and NT@k are defined as particular ratios\\nl may enable better rankings among sensitive drugs, but not over the sensitive drugs, which are from both training and\\nnecessarily pushing sensitive drugs on top. Fig. 6 also shows testing data in this case, and thus less biased by the training\\nthat CI first increases and then decreases as l becomes larger, data.\\nfollowing an opposite trend of sCI. This demonstrates that\\n5.2.2 Overall Comparison\\ngood ranking structures among all the drugs do not directly\\nindicate good ranking structures among sensitive drugs, Table 4 presents top performance of BMTMKL, KRL and\\nand vice versa. We also notice that with α=0.5, pLETORg has pLETORg in terms of AT@k and NT@k. The full set of\\nbetter AP@k as l increases from 30 to 50. This is probably experimental results is available in Table S8, S9, S10, S11,\\nbecause sufficiently large latent dimensions could also cap- S12, and S13 in the supplementary materials. The results\\nture the drug sensitivity information when the sensitivity in Table 4 show that in terms of NT@k, pLETORg is able\\nthreshold is relaxed (i.e., more drugs are considered as to achieve very similar results (when l=5) as BMTMKL and\\nsensitive when θ=5 than those when θ=2). Even though, KRL, in which cases, pLETORg even achieves slightly better\\npLETORg still performs better at l=10 than at l=50 with θ=5. results on AT@k than BMTMKL and KRL when both BMTMKL', 'IEEE/ACM TRANSACTIONS ON COMPUTATIONAL BIOLOGY AND BIOINFORMATICS 10\\nTABLE 4: Performance on Ranking New and Known Drugs (%)\\nsthr method parameters performance\\nα b β b usim σ AT@5 AT@10 NT@5 NT@10\\n- BMTMKL\\n1.0e0 1.0e0 RBF 10.0 48.03 54.57 47.57 54.00\\n1.0e-10 1.0e-10 RBF 10.0 47.99 54.49 47.62 54.01\\nk λ usim σ AT@5 AT@10 NT@5 NT@10\\nKRL 10 1.0e-06 RBF 0.01 78.88 78.24 3.43 28.51\\n10 50 LIN - 45.64 51.44 45.99 51.81\\n10 1.0e-06 RBF 0.0001 45.63 51.88 45.55 52.28\\nθ = 2\\nl α β γ usim σ AT@5 AT@10 NT@5 NT@10\\n50 0.50 0.1 1.0 RBF 10.0 71.38 64.27 3.83 9.29\\npLETORg\\n50 0.10 1.0 10.0 COS - 62.92 65.41 0.69 2.00\\n5 0.10 0.1 100.0 RBF 10.0 49.84 58.47 46.68 55.60\\n5 0.05 0.1 100.0 RBF 10.0 49.66 58.47 46.53 55.71\\nk λ usim σ AT@5 AT@10 NT@5 NT@10\\nKRL\\n10 1.0e-06 RBF 0.01 75.97 75.07 2.64 4.14\\n10 1.0e-04 LIN - 48.25 54.54 46.42 54.51\\nθ = 5\\nl α β γ usim σ AT@5 AT@10 NT@5 NT@10\\npLETORg 50 1.00 0.1 10.0 COS - 79.42 76.49 16.99 36.06\\n50 0.50 0.1 100.0 COS - 74.93 77.36 5.67 17.29\\n5 0.50 0.1 10.0 RBF 10.0 49.84 57.97 45.50 54.86\\nThe columns corresponding to “αb”, “βb”, “usim”, and “σ” have the two hyperparameters, cell line similarity function, and parameter for RBF cell line similarity,\\nrespectively, for BMTMKL. The columns corresponding to “k”, “λ”, “usim”, and “σ” have the two hyperparameters, cell line similarity function, and parameter for\\nRBF cell line similarity, respectively, for KRL. The columns corresponding to “l”, “α”, “β”, “γ”, “usim”, and “σ” have the latent dimension, weighting factor, latent\\nvector regularization parameter, cell line similarity regularization parameter, cell line similarity function, and parameter for RBF cell line similarity, respectively, for\\npLETORg. The best performance of each method under each metric is in bold. The best performance of both the methods under each metric is underscored.\\nand KRL achieve their best NT@k. This demonstrates that and the cell line similarities calculated from gene expres-\\npLETORg has similar power as BMTMKL and KRL in ranking sions (i.e., w pq as in Equation 8) using RBF function is 0.426.\\nnew and known sensitive drugs together, and even slightly The correlations show that cell line gene expression sim-\\nbetter power in prioritizing new sensitive drugs. In terms ilarities and their latent vector similarities are moderately\\nof AT@k, pLETORg is able to achieve much better results correlated. We further analyze the cell lines whose gene\\n(when l=50) than BMTMKL. However, when pLETORg achieves expression similarities (using RBF function) are among 90\\nhigh AT@k, the corresponding NT@k is not optimal. Since percentile. For each of such cell lines, we identify 10 most\\nthe majority of top-k most sensitive drugs among both similar cell lines in their gene expressions. Fig. S2 in the\\nnew and known drugs will be known drugs, the good supplementary materials shows the gene expression similar-\\nperformance of pLETORg on AT@k validates that the push ities of all such cell lines and their latent vector similarities.\\nmechanism in pLETORg takes place during training. In Fig. S2 in the supplementary materials demonstrates that for\\naddition, pLETORg outperforms KRL in terms of AT@k when those cell lines whose gene expression similarities are high,\\nθ=5, but is significantly worse than KRL when θ=2. This their latent vector similarities are also significantly higher\\nindicates potential overfitting of KRL in ranking sensitive than average (the average cell line latent vector similarity\\ndrugs on top during training, particularly when sensitive is 0.682). This indicates the feasibility of using high gene\\ntraining drugs are limited (θ=2) (again, sensitive training expression similarities to connect new cell lines with cell\\ndrugs will be the majority of sensitive drugs). lines used in pLETORg\\n5.3 Ranking Drugs in New Cell Lines 5.3.2 Experimental Setting\\nIn this section, we present the experimental results on Based on the analysis on cell line similarities, we split testing\\nranking drugs in new cell lines. The experiments follow the cell lines (i.e., new cell lines) from training cell lines (as in\\nexperimental setting as in Fig. 4. Fig. 4) such that each of the testing cell lines has sufficient\\nnumber of similar training cell lines in terms of their gene\\n5.3.1 Analysis on Cell Line Similarities expressions. Cell line latent vectors are learned in pLETORg\\nNew cell lines don’t have any drug response information or only for those training cell lines, and drug latent vectors are\\nlatent vectors, and the only information that can be lever- learned for all the drugs. Note that the label scheme in this\\naged in order to select drugs for them is their own genomics setting follows that in Section 4.1.2.2. The detailed protocol\\ninformation. Therefore, we first validate whether we can use is available in Section S5 in supplementary materials.\\nthe gene expression information for drug selection in new In order to select sensitive drugs for each of the test-\\ncell lines in pLETORg. ing/new cell lines, we first generate a latent vector for the\\nWe first calculate the similarities of cell lines using their testing cell line as the weighted sum of latent vectors of its\\nlatent vectors learned from pLETORg (in the setting of Fig. 3) top-10 most similar (in gene expressions) training cell lines.\\nin RBF function. The correlation between such similarities The weights are the respective gene expression similarities.', 'IEEE/ACM TRANSACTIONS ON COMPUTATIONAL BIOLOGY AND BIOINFORMATICS 11\\nTABLE 5: Performance on Selecting Drugs for New Cell Lines\\nsthr method AP@5 AP@10\\n50 100 150 200 250 300 350 400 50 100 150 200 250 300 350 400\\nBMTMKL 0.855 0.842 0.844 0.834 0.833 0.829 0.823 0.829 0.792 0.783 0.783 0.778 0.774 0.768 0.763 0.768\\nθ = 2 KRL 0.451 0.409 0.399 0.432 0.430 0.388 0.397 0.382 0.436 0.403 0.390 0.398 0.404 0.379 0.377 0.356\\npLETORg 0.876 0.870 0.870 0.852 0.861 0.856 0.848 0.853 0.800 0.770 0.789 0.777 0.798 0.780 0.771 0.792\\n50 100 150 200 250 300 350 400 50 100 150 200 250 300 350 400\\nBMTMKL 0.951 0.945 0.946 0.937 0.940 0.937 0.935 0.938 0.903 0.908 0.911 0.907 0.908 0.906 0.903 0.906\\nθ = 5 KRL 0.621 0.568 0.565 0.545 0.565 0.570 0.549 0.543 0.573 0.497 0.524 0.501 0.520 0.503 0.515 0.502\\npLETORg 0.965 0.958 0.955 0.949 0.949 0.949 0.947 0.947 0.908 0.908 0.908 0.906 0.904 0.906 0.901 0.906\\nThe columns corresponding to “AP@5” and “AP@10” have the AP@5 and AP@10 evaluation values of the corresponding methods, respectively. The columns\\ncorresponding to “50” · · · “400” have the number of new cell lines in the experiment (i.e., N new). The best performance of the three methods under each metric is\\nin bold.\\nThe drugs are then scored using the latent vector of the new 5.4 Analysis on Latent Vectors\\ncell line and latent vectors of all drugs. 5.4.1 Analysis on Drug Latent Vectors\\n5.4.1.1 Evaluation Measurements: We evaluate how\\n5.3.3 Overall Comparison\\nmuch the learned drug latent vectors could be interpreted\\nTable. 5 presents the performance of BMTMKL, KRL and\\nin differentiating sensitive drugs and insensitive drugs. To\\npLETORg with respect to different numbers of new cell lines,\\nhave quantitative measurements for such an evaluation, we\\ndenoted as N , in terms of AP@5, AP@10, respectively.\\nnew calculate the following four types of measurement:\\nWe don’t present the performance in sCI and CI here\\n1) the cosine similarities of drugs using their latent vectors\\nbecause in drug selection for new cell lines/patients, CI is learned from pLETORg, denoted as COS ;\\nL\\nnot practically as indicative as AP@k, particularly in drug\\n2) the Tanimoto coefficients [39] of drugs using their AF\\nselection from a large collection of drugs. For each of the features 11, denoted as TAN ;\\nAF\\ntwo evaluation metrics, we compare the performance of\\n3) the average ranking percentile difference for all the drug\\nBMTMKL, KRL and pLETORg when θ=2 and θ=5. Note that as\\npairs over all the cell lines in the ground truth, denoted\\nN new increases (i.e., more new cell lines), the average gene as ∆r%; and\\nexpression similarities between new cell lines and training\\n4) the average difference of responsive cell line ratios for\\ncell lines decrease according to the data split protocol.\\ndrug pairs over all the cell lines in the ground truth,\\nTable. 5 shows that as N new increases, the AP@5 and denoted as ∆e%.\\nAP@10 values of pLETORg, KRL and pLETORg with both AF features are binary fingerprints representing whether a\\nθ=2 and θ=5 decrease in general. This is because as more certain substructure is present or not in a drug. Thus, the\\ncell lines are split into testing set, on average, training cell Tanimoto coefficients over AF features measure how drugs\\nlines and testing cell lines are less similar, and thus it is are similar in terms of their intrinsic structures (Tanimoto co-\\nless accurate to extrapolate from training cell lines to new efficient has been demonstrated to be effective in comparing\\ncell lines. Even though, pLETORg consistently outperforms drug structures [39]). The measurement ∆r% is calculated\\nBMTMKL and KRL over all N new values in terms of AP@5. on all pairs of drugs over the cell lines that both of the drugs\\nand performs similarly to BMTMKL and still outperforms KRL in a pair have sensitivity measurement (i.e., no missing\\nin terms of AP@10. Specifically, when 50 cell lines are held values on either of the drugs) in the cell lines. The absolute\\nout for testing (i.e., N new =50), pLETORg achieves AP@5 = values of the percentile ranking differences over such cell\\n0.876/0.965 when θ = 2/5, compared to AP@5 = 0.855/0.951 lines are then averaged into ∆r%. The measurement ∆e% is\\nof BMTMKL and AP@5 = 0.451/0.621 of KRL. When 400 cell calculated as the percentage of cell lines in which a drug is\\nlines are held out for testing, pLETORg achieves AP@5 = sensitive (with θ=5). The absolute values of such ratio differ-\\n0.853/0.947, compared to AP@5 = 0.829/0.938 of BMTMKL ences from all the drug pairs are then averaged into ∆e%.\\nand AP@5 = 0.382/0.543 of KRL when θ=2/5. Particularly,\\nwith θ=2, pLETORg outperforms BMTMKL at 2.5% when\\nN =50, and at 2.9% when N =400. This indicates that new new\\nwhen the drug selection for new cell lines is more diffi-\\ncult (e.g., fewer training cell lines, fewer sensitive drugs),\\npLETORg outperforms BMTMKL more. Also with θ=2, when\\nmore cell lines are held out (N ≥ 250), pLETORg out-\\nnew\\nperforms BMTMKL in AP@10. For example, when N =250, new\\npLETORg achieves AP@10 = 0.798, compared to AP@10 =\\n0.774 of BMTMKL. This also indicates that pLETORg outper-\\nforms pLETORg on more difficult drug selection problems.\\nPlease note that KRL performs significantly worse than\\npLETORg and BMTMKL in selecting drugs for new cell lines.\\nThis might be due to similar reasons as discussed in Sec-\\ntion 5.2.2, that is, KRL tends to overfit the known (training)\\ncell lines and is not well generalizable to new cell lines.\\nelitnecrep\\nNAT FA\\n45\\n75-100 80.9/39.8 59.6/33.6 55.4/34.1 47.9/32.2\\n50-75 82.2/40.9 62.4/35.7 55.9/34.3 48.4/31.3 35\\n25-50 83.0/41.1 63.7/36.1 55.6/34.0 48.2/30.7 25\\n0-25 82.8/39.7 61.7/34.1 51.8/31.1 45.9/28.8\\n15\\n0-25 25-50 50-75 75-100\\nCOS percentile\\nL\\nFig. 7: ∆r% in different drug pairs\\n5.4.1.2 Discriminant Power of Drug Latent Vectors:\\nWe group all the drug pairs based on their COS and TAN\\nL AF\\npercentile values. Fig. 7 presents the ∆r% for different\\ngroups of drug pairs. In Fig. 7, the colors code the ∆r%\\n11. http://glaros.dtc.umn.edu/gkhome/afgen/overview', 'IEEE/ACM TRANSACTIONS ON COMPUTATIONAL BIOLOGY AND BIOINFORMATICS 12\\nvalues. The two values in each drug group (e.g., x/y in\\neach cell in the figure) are the average percentile ranking\\nof the higher-ranked drugs (i.e., x) and of the lower-ranked\\ndrugs (i.e., y) in the drug pairs, respectively. The difference\\nof the two values in each drug group is the corresponding\\n∆r%. Fig. 7 shows that when the drugs are less similar\\nin their latent vectors (i.e., smaller COS percentile; the left\\nL\\ncolumns in Fig. 7), the drugs are ranked more differently\\namong cell lines on average (i.e., larger ∆r% values). Drugs\\nwith similar latent vectors tend to be ranked similarly (i.e.,\\nsmaller ∆r% values in the right columns in Fig. 7 with larger\\nCOS percentiles). This indicates that the drug latent vectors\\nL\\nlearned from pLETORg are able to encode information that\\ndifferentiates drug rankings in cell lines.\\nelitnecrep\\nNAT\\nFA\\ndrug sensitivity profiles (DS) using Spearman rank cor-\\nrelation coefficient. The three corresponding correlations\\nare denoted as corr(GE, LV), corr(GE, DS) and corr(LV, DS),\\nrespectively. The numbers associated with tumor types in\\nFig. 9 indicate the number of cell lines of corresponding\\ntumor types. (e.g., melanoma (51) indicates that there are\\n51 cell lines of melanoma). Among the 37 tumor types as\\noriginally categorized in CCLE, 28 tumor types (i.e., 75.7%\\nof all tumor types) have their corr(LV, DS) higher than or\\nsame as corr(GE, DS), and the average percentage difference\\nis 59.9%. For example, for 15 neuroblastoma cell lines,\\ncorr(LV, DS) is on average 191.7% higher than corr(GE, DS).\\nFor all the cell lines of various lymphoma, corr(LV, DS) is on\\naverage at least 20% higher than corr(GE, DS). This indicates\\nthat even when the correlation between gene expression\\n30 and drug sensitivity is not strong, through learning cell line\\n75-100 27.7/0.8 4.4/0.9 1.6/0.6 0.6/0.3\\nlatent vectors, pLETORg can discover novel cell line features\\n50-75 27.5/0.9 4.5/0.8 1.2/0.3 0.4/0.1 20\\n(i.e., cell line latent vectors) that better characterize their\\n25-50 29.9/0.8 4.7/0.8 1.0/0.2 0.3/0.1 10 drug response patterns. As a matter of fact, the improve-\\n0-25 30.2/0.8 5.2/1.0 1.2/0.3 0.4/0.1 0 ment of corr(LV, DS) over corr(GE, DS) is more significant\\n0-25 25-50 50-75 75-100 when corr(GE, DS) is lower (i.e., the left side of the panel in\\nCOS L percentile Fig. 9). This indicates pLETORg may be effective for cell lines\\nFig. 8: ∆e% in different drug pairs which do not have significant correlation between selected\\ngene expression and drug sensitivity profiles. For the cell\\nFig. 8 presents the ∆e% for different groups of drug\\nlines whose corr(GE, DS) is large (i.e., the right side of the\\npairs. In Fig. 8, the colors code the ∆e% values. The two val-\\npanel in Fig. 9), corr(LV, DS) is still high in general and\\nues in each drug group (e.g., x/y) are the average responsive\\nmeanwhile corr(GE, LV) is also high. This indicates that\\ncell line ratio of the higher-ranked drugs (i.e., x) and of the\\npLETORg may be effective in retaining the useful signals\\nlower-ranked drugs (i.e., y) in the drug pairs, respectively.\\nfrom gene expression when the correlation between selected\\nThe difference of the two values in each drug group is the\\ngene expression and drug sensitivity profiles is strong. For\\ncorresponding ∆e%. Fig. 8 shows that drugs that are very\\na few tumor types with relatively low corr(GE, LV) (e.g.,\\ndifferent from others in COS (i.e., smaller COS percentile;\\nL L liver, AML and esophagus), their corr(LV, DS) is actually rel-\\nthe left columns in Fig. 8) are sensitive in more cell lines (i.e.,\\natively high. This may indicate the capability of pLETORg in\\nlarger x in x/y values of the left columns). Specifically, the\\nlearning new signals for cell lines by leveraging information\\nhigher-ranked drugs (i.e., corresponding to x in x/y values\\nfrom multiple other cell lines.\\nin Fig. 8) in the 4 ranges of COS values (in increasing order)\\nL\\nare sensitive in 28.8%, 4.7%, 1.3% and 0.4% of the cell lines\\non average, respectively. This also corresponds with what 6 DISCUSSIONS AND CONCLUSIONS\\nFig. 7 shows, that is, drugs that are more different from\\nWe developed genomics-regularized joint push and\\nothers in COS tend to be ranked higher than the drugs that\\nL learning-to-rank method pLETORg to tackle cancer drug\\nare more similar to others in COS . Specifically, in Fig. 7,\\nL selection for three particular application scenarios: 1). select\\nthe higher-ranked drugs (i.e., corresponding to x in x/y\\nsensitive drugs from new drugs for each known cell line;\\nvalues in Fig. 7) in the 4 ranges of COS values (in increasing\\nL 2). select sensitive drugs from all available drugs including\\norder) are ranked at 82.2, 61.9, 54.7 and 47.6 percentile on\\nnew and known drugs for each known cell line; and 3).\\naverage, respectively. These indicate that the sensitive drugs\\nselect sensitive drugs from all available drugs for new cell\\nare better differentiated in drug latent vectors, and thus\\nlines. Our new method pLETORg outperforms or achieve\\npLETORg is effective in deriving drug latent vectors that are\\nsimilar performance to the state-of-the-art methods BMTMKL\\nspecific to drug sensitivities.\\nand KRL. Note that BMTMKL was originally developed to\\n5.4.1.3 Drug Latent Vectors as New Drug Features:\\nselect cell lines for drugs. However, BMTMKL uses kernel\\nAnalysis on drug latent vectors as new drug features is\\nregression and approximates drug response values to sort\\navailable in Section S6 in the supplementary materials.\\ncell lines. Such drug response values can also be used to\\n5.4.1.4 Interpretability of Drug Latent Vectors:\\nselect drugs for cell lines, as we used in this manuscript.\\nAnalysis on the interpretability of drug latent vectors is\\nKRL was originally developed to select drugs for cell lines –\\navailable in Section S7 in the supplementary materials.\\nthe same goal as our pLETORg, but shows low generalization\\ncapabilities in selecting drugs for new cell lines and from\\n5.4.2 Analysis on Cell Line Latent Vectors\\nnew drugs.\\nFig. 9 presents the correlations among three different types pLETORg is a pair-wise learning-to-rank method which\\nof cell line similarities within each of the tumor types. scores each drug in each cell line using latent vectors and\\nThe three cell line similarities are calculated from gene ranks drugs based on the latent scores. This is fundamen-\\nexpressions (GE) using RBF function on the 1,203 selected tally different from BMTMKL (a point-wise learning-to-rank\\ngenes, cell line latent vectors (LV) using RBF function and method) and KRL (a list-wise learning-to-rank method), in', 'IEEE/ACM TRANSACTIONS ON COMPUTATIONAL BIOLOGY AND BIOINFORMATICS 13\\n1.0\\n0.8\\n0.6\\n0.4\\n0.2\\n0.0\\n5) 2) 6) 8) 5) 0) 5) 8) 9) 6) 1) 7) 9) 9) 9) 2) 9) 5) 1) 1) 5) 8) 8) 8) 6) 5) 3) 2) 7) 8) 0) 8) 3) 2) 6) 3) 2)\\n1 3 2 3 3 1 1 3 3 2 4 4 2 9 1 2 2 2 5 2 1 ( ( 2 ( ( 2 1 ( ( 1 ( ( 1 ( ( (\\nn e ur o b l l y as m t s o p t h o l m o a u m ( n m a a g c l h s o y t ( m h m a e l p r l h l ( c o y el o m l m v a ( p a h b r o u y r ( m ki a tt m d p l ( u a b lt n c i l c p r ( l e e a b s r m ( e y a e s l t o ( g m li c a o o ( l o m r a e ( ct al l ( n u / n a g ( n k s i c d ( n e y e li ( n v d e o r ( a m e m t l m ri e ( u l u r a i l n m n y o a ( m r m y p s a t h o ( r f o t a u t c m p i t a s p ( s m e h e r u o s e a o d ( t e g r h k o e i l d i n i o g l e m s e a ti u p v k r e e o ( s m t i e a a s t e o ot p h h e a r g us ( c bil ml e ( d b e u c c w e t i l t l n h g a y l s r l o s i a d rc ( o m a o o t t s m c t h e e e e l d r l o u s c a l a l l h l r o o c ( b n o l d a m r st a o o s a m rc a o m a\\nnoitalerroc\\ngene expression vs drug sensitivity (corr(GE, DS))\\ngene expression vs latent vectoraaa (corr(GE, LV))\\nlatent vector vs drug sensitivity. (corr(LV, DS))\\ncell lines\\nFig. 9: Correlation among Different Cell Line Similarities\\nwhich the drug response values are approximated and used drug-cell line screening data, for example, NCI60 12 and\\nto sort drugs. The latent scores enable more flexibility to LINCS-L1000 13 data. When the number of drugs (chemi-\\nlearn accurate drug ranking structures, but fall short when cal compounds in LINCS-L1000) is large, it becomes more\\ndrug response values are also of concerns. We will inves- challenging computationally when pairs of drugs are used\\ntigate a combination of latent scoring and drug response in learning. We will explore fast learning algorithms to learn\\nvalue regression to leverage the advantages of both the drug latent vectors in the future research.\\nschemes.\\nIn pLETORg, each drug has a global latent vector which\\nis the same in all cell lines. This might be restrictive as the\\nACKNOWLEDGMENTS\\nlearned drug latent vectors may have to compromise their This material is based upon work supported by the National\\nperformance in some cell lines in order to achieve better Science Foundation under Grant Number IIS-1566219 and\\nperformance in other cell lines, and thus better overall per- IIS-1622526.\\nformance. We will explore personalized drug latent vectors\\nin the future research, that is, each drug will have different\\nlatent vectors with respect to different cell lines. In this way, REFERENCES\\nthe ranking performance on each cell line is expected to be\\n[1] E. A. Ashley, “Towards precision medicine,” Nature Reviews Genet-\\nfurther improved. ics, vol. 17, no. 9, p. 507, 2016.\\nIn addition, in pLETORg and BMTMKL, gene selection has [2] L. Omberg, K. Ellrott, Y. Yuan, C. Kandoth, C. Wong, M. R. Kellen,\\nbeen done across all tissue types/origins for all the cell lines S. H. Friend, J. Stuart, H. Liang, and A. A. Margolin, “Enabling\\ntransparent and collaborative computational analysis of 12 tumor\\ntogether. However, different tissue types/origins may have\\ntypes within the cancer genome atlas,” Nature genetics, vol. 45,\\ndifferent genes useful in their drug rankings. Therefore, no. 10, p. 1121, 2013.\\nglobal gene selection may end up with genes which tend to [3] B. Vogelstein, N. Papadopoulos, V. E. Velculescu, S. Zhou, L. A.\\nDiaz, and K. W. Kinzler, “Cancer genome landscapes,” science, vol.\\nbe globally indicative for assessing drug sensitivities, while\\n339, no. 6127, pp. 1546–1558, 2013.\\nlocally informative gene information has been neglected.\\n[4] C. Kandoth, M. D. McLellan, F. Vandin, K. Ye, B. Niu, C. Lu, M. Xie,\\nWe will explore localized gene selection in the future re- Q. Zhang, J. F. McMichael, M. A. Wyczalkowski et al., “Mutational\\nsearch, by clustering cell lines based on tissues/origins and landscape and significance across 12 major cancer types,” Nature,\\nvol. 502, no. 7471, p. 333, 2013.\\nconducting gene selection over each cluster. We will also\\n[5] T. I. Zack, S. E. Schumacher, S. L. Carter, A. D. Cherniack, G. Sak-\\nexplore cell line clustering with respect to their drug ranking sena, B. Tabak, M. S. Lawrence, C.-Z. Zhang, J. Wala, C. H. Mermel\\nstructures. It is expected that by localized gene selection, et al., “Pan-cancer patterns of somatic copy number alteration,”\\ndrug selection could be more accurate for each cell line. Nature genetics, vol. 45, no. 10, p. 1134, 2013.\\n[6] R. M. Conti, A. C. Bernstein, V. M. Villaflor, R. L. Schilsky,\\nThe pLETORg method suffers from the lack of inter-\\nM. B. Rosenthal, and P. B. Bach, “Prevalence of off-label use and\\npretability. It is not easy to explain what each of the spending in 2010 among patent-protected chemotherapies in a\\ndrug/cell line latent dimensions represents or whether they population-based cohort of medical oncologists,” Journal of Clinical\\nOncology, vol. 31, no. 9, p. 1134, 2013.\\ncorrelate to any mechanisms of actions. This is because the\\n[7] R. S. Stafford, “Regulating off-label drug use–rethinking the role\\nlatent vectors are learned only with respect to the goal of of the fda,” New England Journal of Medicine, vol. 358, no. 14, pp.\\noptimizing the drug ranking structures, without any poten- 1427–1429, 2008.\\ntial MOA (if ever known) or causal features (if ever known) [8] J. A. DiMasi, R. W. Hansen, and H. G. Grabowski, “The price of\\ninnovation: new estimates of drug development costs,” Journal of\\nexplicitly modeled. We would tackle this challenging in-\\nhealth economics, vol. 22, no. 2, pp. 151–185, 2003.\\nterpretability issue in the future research, for example, by\\nintegrating known knowledge in the latent vector learning. 12. https://dtp.cancer.gov/discovery development/nci-60/\\nWe will also evaluate our pLETORg method on other 13. http://www.lincsproject.org/LINCS/', 'IEEE/ACM TRANSACTIONS ON COMPUTATIONAL BIOLOGY AND BIOINFORMATICS 14\\n[9] S. G. Poole and M. J. Dooley, “Off-label prescribing in oncology,” [30] S. Agarwal, D. Dugar, and S. Sengupta, “Ranking chemical struc-\\nSupportive Care in Cancer, vol. 12, no. 5, pp. 302–305, 2004. tures for drug discovery: a new machine learning approach,”\\n[10] T.-Y. Liu, “Learning to rank for information retrieval,” Found. Journal of chemical information and modeling, vol. 50, no. 5, pp. 716–\\nTrends Inf. Retr., vol. 3, no. 3, pp. 225–331, Mar. 2009. 731, 2010.\\n[11] C. De Niz, R. Rahman, X. Zhao, and R. Pal, “Algorithms for drug [31] S. Agarwal, T. Graepel, R. Herbrich, S. Har-Peled, and D. Roth,\\nsensitivity prediction,” Algorithms, vol. 9, no. 4, 2016. “Generalization bounds for the area under the roc curve,” Journal\\n[12] M. Go¨nen, “Predicting drug-target interactions from chemical and of Machine Learning Research, vol. 6, no. Apr, pp. 393–425, 2005.\\ngenomic kernels using bayesian matrix factorization.” Bioinformat- [32] S. Boyd, C. Cortes, M. Mohri, and A. Radovanovic, “Accuracy at\\nics, vol. 28, no. 18, pp. 2304–2310, Sep 2012. the top,” in Advances in Neural Information Processing Systems 25,\\nF. Pereira, C. J. C. Burges, L. Bottou, and K. Q. Weinberger, Eds.\\n[13] X. He, L. Folkman, K. Borgwardt, and J. Wren, “Kernelized rank\\nCurran Associates, Inc., 2012, pp. 953–961.\\nlearning for personalized drug recommendation,” Bioinformatics,\\n[33] H. Narasimhan and S. Agarwal, “Svmpauctight: A new support\\nvol. 1, p. 9, 2018.\\nvector method for optimizing partial auc based on a tight convex\\n[14] X. Zheng, H. Ding, H. Mamitsuka, and S. Zhu, “Collaborative\\nupper bound,” in Proceedings of the 19th ACM SIGKDD International\\nmatrix factorization with multiple similarities for predicting drug-\\nConference on Knowledge Discovery and Data Mining, ser. KDD ’13.\\ntarget interactions,” in Proceedings of the 19th ACM SIGKDD inter-\\nNew York, NY, USA: ACM, 2013, pp. 167–175.\\nnational conference on Knowledge discovery and data mining. ACM,\\n[34] C. Rudin, “The p-norm push: A simple convex ranking algorithm\\n2013, pp. 1025–1033.\\nthat concentrates at the top of the list,” J. Mach. Learn. Res., vol. 10,\\n[15] Y. Liu, M. Wu, C. Miao, P. Zhao, and X.-L. Li, “Neighborhood\\npp. 2233–2271, Dec. 2009.\\nregularized logistic matrix factorization for drug-target interaction\\n[35] S. Agarwal, The Infinite Push: A new Support Vector Ranking Algo-\\nprediction,” PLoS computational biology, vol. 12, no. 2, p. e1004760,\\nrithm that Directly Optimizes Accuracy at the Absolute Top of the List,\\n2016.\\n2011, pp. 839–850.\\n[16] N. Zhang, H. Wang, Y. Fang, J. Wang, X. Zheng, and X. S. Liu, “Pre- [36] N. Li, R. Jin, and Z.-H. Zhou, “Top rank optimization in linear\\ndicting anticancer drug responses using a dual-layer integrated time,” in Proceedings of the 27th International Conference on Neural\\ncell line-drug network model.” PLoS Computational Biology, vol. 11, Information Processing Systems, 2014, pp. 1502–1510.\\nno. 9, 2015. [37] Y. Shi, M. Larson, and A. Hanjalic, “Collaborative filtering beyond\\n[17] J. C. Costello, L. M. Heiser, E. Georgii, M. Gonen, M. P. Menden, the user-item matrix: A survey of the state of the art and future\\nN. J. Wang et al., “A community effort to assess and improve drug challenges,” ACM Comput. Surv., vol. 47, no. 1, pp. 3:1–3:45, May\\nsensitivity prediction algorithms,” Nat Biotech, vol. 32, no. 12, pp. 2014.\\n1202–1212, Dec 2014. [38] M. Y. Park and T. Hastie, “L1-regularization path algorithm for\\n[18] M. P. Menden, F. Iorio, M. Garnett, U. McDermott, C. H. Benes, P. J. generalized linear models,” Journal of the Royal Statistical Society:\\nBallester, and J. Saez-Rodriguez, “Machine learning prediction of Series B (Statistical Methodology), vol. 69, no. 4, pp. 659–677, 2007.\\ncancer cell sensitivity to drugs based on genomic and chemical [39] N. Wale, I. A. Watson, and G. Karypis, “Comparison of descriptor\\nproperties.” PloS one, vol. 8, no. 4, p. e61318, Jan 2013. spaces for chemical compound retrieval and classification,” Knowl.\\n[19] Z. Stanfield, M. Cos¸kun, and M. Koyutu¨rk, “Drug response pre- Inf. Syst., vol. 14, no. 3, pp. 347–375, Mar. 2008.\\ndiction as a link prediction problem,” Scientific reports, vol. 7, p.\\n40321, 2017.\\n[20] M. Ammad-ud din, E. Georgii, M. Gnen, T. Laitinen, O. Kallion-\\niemi, K. Wennerberg, A. Poso, and S. Kaski, “Integrative and\\nYicheng He received his B.S. degrees from the\\npersonalized qsar analysis in cancer by kernelized bayesian matrix\\nDepartment of Computer & Information Science,\\nfactorization,” Journal of Chemical Information and Modeling, vol. 54,\\nIndiana University-Purdue University, Indianapo-\\nno. 8, pp. 2347–2359, 2014, pMID: 25046554.\\nlis, Indiana, and from School of Software, Sun\\n[21] G. Speyer, D. Mahendra, H. J. Tran, J. Kiefer, S. L. Schreiber, Yat-sen University, China, in 2016. His research\\nP. A. Clemons, H. Dhruv, M. Berens, and S. Kim, “Differential is on data mining and machine learning with\\npathway dependency discovery associated with drug response applications in drug discovery.\\nacross cancer cell lines,” in Pacific Symposium on Biocomputing,\\nvol. 22. NIH Public Access, 2017, p. 497.\\n[22] Z. Cao, T. Qin, T.-Y. Liu, M.-F. Tsai, and H. Li, “Learning to rank:\\nFrom pairwise approach to listwise approach,” in Proceedings of\\nthe 24th International Conference on Machine Learning, ser. ICML ’07.\\nNew York, NY, USA: ACM, 2007, pp. 129–136.\\n[23] J. Furnkranz and H. E, Preference Learning, 1st ed. Springer-Verlag\\nJunfeng Liu received his M.S. degree from the\\nNew York, Inc., 2010.\\nDepartment of Computer & Information Science,\\n[24] H. Li, Learning to Rank for Information Retrieval and Natural Language\\nIndiana University-Purdue University, Indianapo-\\nProcessing. Morgan & Claypool Publishers, 2011.\\nlis, Indiana, in 2018. He is currently a Graduate\\n[25] C. J. Burges, R. Ragno, and Q. V. Le, “Learning to rank with nons-\\nResearch Assistant at Indiana University-Purdue\\nmooth cost functions,” in Advances in Neural Information Processing\\nUniversity Indianapolis. His research is on data\\nSystems 19, P. B. Scho¨lkopf, J. C. Platt, and T. Hoffman, Eds. MIT\\nmining and machine learning with applications\\nPress, 2007, pp. 193–200.\\nin drug discovery, bioinformatics and healthcare\\n[26] G. Lebanon and J. D. Lafferty, “Cranking: Combining rankings\\ninformatics.\\nusing conditional probability models on permutations,” in Proceed-\\nings of the Nineteenth International Conference on Machine Learning,\\nser. ICML ’02. San Francisco, CA, USA: Morgan Kaufmann\\nPublishers Inc., 2002, pp. 363–370.\\n[27] J. Liu and X. Ning, “Multi-assay-based compound prioritization\\nXia Ning received her Ph.D. degree from the\\nvia assistance utilization: a machine learning framework,” Journal\\nDepartment of Computer Science & Engineer-\\nof Chemical Information and Modeling, vol. 57, no. 3, pp. 484–498,\\ning, University of Minnesota, Twin Cities, USA,\\n2017.\\nin 2012. She is currently an Assistant Professor\\n[28] W. Zhang, L. Ji, Y. Chen, K. Tang, H. Wang, R. Zhu, W. Jia, Z. Cao,\\nat the Department of Computer & Information\\nand Q. Liu, “When drug discovery meets web search: Learning to\\nScience, Indiana University-Purdue University,\\nrank for ligand-based virtual screening,” Journal of cheminformatics,\\nIndianapolis, Indiana. Her research is on data\\nvol. 7, no. 1, p. 5, 2015.\\nmining and machine learning with applications\\n[29] J. Liu and X. Ning, “Differential compound prioritization via\\nin drug discovery, bioinformatics and healthcare\\nbi-directional selectivity push with power,” in Proceedings of the\\ninformatics.\\n8th ACM International Conference on Bioinformatics, Computational\\nBiology,and Health Informatics, ser. ACM-BCB ’17. New York, NY,\\nUSA: ACM, 2017, pp. 394–399.']], 'metadata': [{'Author': '', 'CreationDate': 'D:20180522014042Z', 'Creator': 'LaTeX with hyperref package', 'Keywords': '', 'ModDate': 'D:20180522014042Z', 'PTEX.Fullbanner': 'This is pdfTeX, Version 3.14159265-2.6-1.40.17 (TeX Live 2016) kpathsea version 6.2.2', 'Producer': 'pdfTeX-1.40.17', 'Subject': '', 'Title': '', 'Trapped': 'False'}]}\n"
     ]
    }
   ],
   "source": [
    "# parsed_paper_info = {\"pdf_text\":[],\n",
    "#                      \"metadata\":[]}\n",
    "\n",
    "# url = \"http://arxiv.org/pdf/1801.07691v2\"\n",
    "\n",
    "# r = requests.get(url, timeout=20)\n",
    "# r.raise_for_status()\n",
    "# f = io.BytesIO(r.content)\n",
    "# text, metadata = convert_pdf_to_text_and_metadata(f)\n",
    "# parsed_paper_info[\"pdf_text\"].append(text)\n",
    "# parsed_paper_info[\"metadata\"].append(metadata)\n",
    "\n",
    "# print(parsed_paper_info)"
   ]
  },
  {
   "cell_type": "code",
   "execution_count": 19,
   "id": "74376734",
   "metadata": {},
   "outputs": [
    {
     "name": "stderr",
     "output_type": "stream",
     "text": [
      "  4%|▍         | 43/990 [01:14<21:40,  1.37s/it]"
     ]
    },
    {
     "name": "stdout",
     "output_type": "stream",
     "text": [
      "Failed to parse PDF.\n"
     ]
    },
    {
     "name": "stderr",
     "output_type": "stream",
     "text": [
      " 22%|██▏       | 213/990 [13:51<1:49:44,  8.47s/it] "
     ]
    },
    {
     "name": "stdout",
     "output_type": "stream",
     "text": [
      "Failed to parse PDF.\n"
     ]
    },
    {
     "name": "stderr",
     "output_type": "stream",
     "text": [
      " 33%|███▎      | 326/990 [20:56<38:51,  3.51s/it]  "
     ]
    },
    {
     "name": "stdout",
     "output_type": "stream",
     "text": [
      "Failed to parse PDF.\n"
     ]
    },
    {
     "name": "stderr",
     "output_type": "stream",
     "text": [
      " 38%|███▊      | 372/990 [23:03<36:24,  3.53s/it]  "
     ]
    },
    {
     "name": "stdout",
     "output_type": "stream",
     "text": [
      "Failed to parse PDF.\n"
     ]
    },
    {
     "name": "stderr",
     "output_type": "stream",
     "text": [
      " 65%|██████▍   | 639/990 [42:48<12:52,  2.20s/it]  "
     ]
    },
    {
     "name": "stdout",
     "output_type": "stream",
     "text": [
      "Failed to parse PDF.\n"
     ]
    },
    {
     "name": "stderr",
     "output_type": "stream",
     "text": [
      " 67%|██████▋   | 661/990 [44:50<23:33,  4.30s/it]"
     ]
    },
    {
     "name": "stdout",
     "output_type": "stream",
     "text": [
      "Failed to parse PDF.\n"
     ]
    },
    {
     "name": "stderr",
     "output_type": "stream",
     "text": [
      " 90%|█████████ | 891/990 [1:03:16<05:13,  3.17s/it]"
     ]
    },
    {
     "name": "stdout",
     "output_type": "stream",
     "text": [
      "Failed to parse PDF.\n"
     ]
    },
    {
     "name": "stderr",
     "output_type": "stream",
     "text": [
      " 93%|█████████▎| 925/990 [1:05:55<03:05,  2.85s/it]"
     ]
    },
    {
     "name": "stdout",
     "output_type": "stream",
     "text": [
      "Failed to parse PDF.\n"
     ]
    },
    {
     "name": "stderr",
     "output_type": "stream",
     "text": [
      " 94%|█████████▍| 931/990 [1:06:12<02:11,  2.22s/it]"
     ]
    },
    {
     "name": "stdout",
     "output_type": "stream",
     "text": [
      "Failed to parse PDF.\n"
     ]
    },
    {
     "name": "stderr",
     "output_type": "stream",
     "text": [
      " 95%|█████████▌| 944/990 [1:07:12<04:49,  6.30s/it]"
     ]
    },
    {
     "name": "stdout",
     "output_type": "stream",
     "text": [
      "Failed to parse PDF.\n"
     ]
    },
    {
     "name": "stderr",
     "output_type": "stream",
     "text": [
      " 96%|█████████▋| 953/990 [1:08:12<07:21, 11.92s/it]"
     ]
    },
    {
     "name": "stdout",
     "output_type": "stream",
     "text": [
      "Failed to parse PDF.\n"
     ]
    },
    {
     "name": "stderr",
     "output_type": "stream",
     "text": [
      "100%|██████████| 990/990 [1:11:25<00:00,  4.33s/it]"
     ]
    },
    {
     "name": "stdout",
     "output_type": "stream",
     "text": [
      "Encountered 11 failures:\n",
      "* Row 43, URL='http://arxiv.org/pdf/2307.00859v4' -> HTTPError('404 Client Error: Not Found for url: http://arxiv.org/pdf/2307.00859v4')\n",
      "* Row 213, URL='http://arxiv.org/pdf/2309.03227v2' -> HTTPError('404 Client Error: Not Found for url: http://arxiv.org/pdf/2309.03227v2')\n",
      "* Row 326, URL='http://arxiv.org/pdf/2208.06360v2' -> HTTPError('404 Client Error: Not Found for url: http://arxiv.org/pdf/2208.06360v2')\n",
      "* Row 371, URL='http://arxiv.org/pdf/2101.10831v1' -> PdfminerException(AssertionError(\"('Unhandled', 14)\"))\n",
      "* Row 638, URL='http://arxiv.org/pdf/1206.2431v2' -> HTTPError('404 Client Error: Not Found for url: http://arxiv.org/pdf/1206.2431v2')\n",
      "* Row 660, URL='http://arxiv.org/pdf/2501.06814v2' -> HTTPError('404 Client Error: Not Found for url: http://arxiv.org/pdf/2501.06814v2')\n",
      "* Row 890, URL='http://arxiv.org/pdf/1207.5083v2' -> HTTPError('404 Client Error: Not Found for url: http://arxiv.org/pdf/1207.5083v2')\n",
      "* Row 924, URL='http://arxiv.org/pdf/1708.00112v3' -> PdfminerException(PSSyntaxError(\"Invalid dictionary construct: [/b'Retrofitting', /b'Author', b'Benjamin J. Lengerich, Andrew L. Maas, Christopher Potts', /'Author', b'', /'Title', b'', /'Subject', b'', /'Creator', b'LaTeX with hyperref package', /'Producer', b'pdfTeX-1.40.17', /'Keywords', b'', /'CreationDate', b'D:20180619014650Z', /'ModDate', b'D:20180619014650Z', /'Trapped', /'False', /'PTEX.Fullbanner', b'This is pdfTeX, Version 3.14159265-2.6-1.40.17 (TeX Live 2016) kpathsea version 6.2.2']\"))\n",
      "* Row 930, URL='http://arxiv.org/pdf/1906.06916v2' -> HTTPError('404 Client Error: Not Found for url: http://arxiv.org/pdf/1906.06916v2')\n",
      "* Row 943, URL='http://arxiv.org/pdf/1812.04562v4' -> HTTPError('404 Client Error: Not Found for url: http://arxiv.org/pdf/1812.04562v4')\n",
      "* Row 952, URL='http://arxiv.org/pdf/2009.01872v1' -> ConnectionError(ReadTimeoutError(\"HTTPConnectionPool(host='arxiv.org', port=80): Read timed out.\"))\n"
     ]
    },
    {
     "name": "stderr",
     "output_type": "stream",
     "text": [
      "\n"
     ]
    }
   ],
   "source": [
    "import io\n",
    "import requests\n",
    "from tqdm import tqdm\n",
    "import logging\n",
    "\n",
    "logging.getLogger(\"pdfminer\").setLevel(logging.ERROR)\n",
    "logging.getLogger(\"pdfplumber\").setLevel(logging.ERROR)\n",
    "\n",
    "parsed_paper_info = {\"pdf_text\":[],\n",
    "                     \"metadata\":[]}\n",
    "\n",
    "failed = [] # need to collect data on which PDF links have failed so it can be removed from the dataset\n",
    "\n",
    "for idx in tqdm(range(len(pdf_url_list))):\n",
    "    try:\n",
    "        url = pdf_url_list[idx]\n",
    "        r = requests.get(url, timeout=20)\n",
    "        r.raise_for_status()\n",
    "        f = io.BytesIO(r.content)\n",
    "        text, metadata = convert_pdf_to_text_and_metadata(f)\n",
    "        parsed_paper_info[\"pdf_text\"].append(text)\n",
    "        parsed_paper_info[\"metadata\"].append(metadata)\n",
    "    except Exception as e:\n",
    "        print(\"Failed to parse PDF.\")\n",
    "        # record the failure\n",
    "        failed.append((idx, url, repr(e)))\n",
    "        \n",
    "if failed:\n",
    "    print(f\"Encountered {len(failed)} failures:\")\n",
    "    for idx, url, err in failed:\n",
    "        print(f\"* Row {idx!r}, URL={url!r} -> {err}\")\n",
    "else:\n",
    "    print(\"All PDF's opened and parsed successfully!\")       \n",
    "    \n",
    "df_parsed = pd.DataFrame.from_dict(parsed_paper_info)"
   ]
  },
  {
   "cell_type": "code",
   "execution_count": 21,
   "id": "66a696b8",
   "metadata": {},
   "outputs": [
    {
     "name": "stdout",
     "output_type": "stream",
     "text": [
      "pdf_text    979\n",
      "metadata    979\n",
      "dtype: int64\n"
     ]
    },
    {
     "data": {
      "text/plain": [
       "(                                            pdf_text  \\\n",
       " 0  [NATURAL CALCIUM CARBONATE FOR BIOMEDICAL\\nAPP...   \n",
       " 1  [Hyperbolic Molecular Representation Learning ...   \n",
       " 2  [4202\\npeS\\n81\\n]YS.ssee[\\n1v21711.9042:viXra\\...   \n",
       " 3  [SEMI-SUPERVISED HIERARCHICAL DRUG EMBEDDING I...   \n",
       " 4  [IEEE/ACM TRANSACTIONS ON COMPUTATIONAL BIOLOG...   \n",
       " \n",
       "                                             metadata  \n",
       " 0  {'Author': 'ismail - [2010]', 'Creator': 'Micr...  \n",
       " 1  {'Author': '', 'CreationDate': 'D:202208150023...  \n",
       " 2  {'Producer': 'GPL Ghostscript 10.01.2', 'Creat...  \n",
       " 3  {'Author': '', 'CreationDate': 'D:202006020057...  \n",
       " 4  {'Author': '', 'CreationDate': 'D:201805220140...  ,\n",
       " None)"
      ]
     },
     "execution_count": 21,
     "metadata": {},
     "output_type": "execute_result"
    }
   ],
   "source": [
    "df_parsed.head(), print(df_parsed.count())"
   ]
  },
  {
   "cell_type": "code",
   "execution_count": 22,
   "id": "1a9069e8",
   "metadata": {},
   "outputs": [],
   "source": [
    "df_cleaned = df_parsed.copy()"
   ]
  },
  {
   "cell_type": "code",
   "execution_count": 23,
   "id": "96f9a010",
   "metadata": {},
   "outputs": [],
   "source": [
    "# ensure the colums are string types\n",
    "df_cleaned[\"pdf_text\"] = df_cleaned[\"pdf_text\"].astype(str)"
   ]
  },
  {
   "cell_type": "code",
   "execution_count": 24,
   "id": "95f0df69",
   "metadata": {},
   "outputs": [],
   "source": [
    "df_cleaned['pdf_text'] = (\n",
    "    df_cleaned['pdf_text']\n",
    "      .str.replace(r\"\\n\", \" \", regex=False)\n",
    "      .str.strip()\n",
    ")"
   ]
  },
  {
   "cell_type": "code",
   "execution_count": 25,
   "id": "3491e6a7",
   "metadata": {},
   "outputs": [
    {
     "data": {
      "text/html": [
       "<div>\n",
       "<style scoped>\n",
       "    .dataframe tbody tr th:only-of-type {\n",
       "        vertical-align: middle;\n",
       "    }\n",
       "\n",
       "    .dataframe tbody tr th {\n",
       "        vertical-align: top;\n",
       "    }\n",
       "\n",
       "    .dataframe thead th {\n",
       "        text-align: right;\n",
       "    }\n",
       "</style>\n",
       "<table border=\"1\" class=\"dataframe\">\n",
       "  <thead>\n",
       "    <tr style=\"text-align: right;\">\n",
       "      <th></th>\n",
       "      <th>pdf_text</th>\n",
       "      <th>metadata</th>\n",
       "    </tr>\n",
       "  </thead>\n",
       "  <tbody>\n",
       "    <tr>\n",
       "      <th>0</th>\n",
       "      <td>['NATURAL CALCIUM CARBONATE FOR BIOMEDICAL APP...</td>\n",
       "      <td>{'Author': 'ismail - [2010]', 'Creator': 'Micr...</td>\n",
       "    </tr>\n",
       "    <tr>\n",
       "      <th>1</th>\n",
       "      <td>['Hyperbolic Molecular Representation Learning...</td>\n",
       "      <td>{'Author': '', 'CreationDate': 'D:202208150023...</td>\n",
       "    </tr>\n",
       "    <tr>\n",
       "      <th>2</th>\n",
       "      <td>['4202 peS 81 ]YS.ssee[ 1v21711.9042:viXra Rev...</td>\n",
       "      <td>{'Producer': 'GPL Ghostscript 10.01.2', 'Creat...</td>\n",
       "    </tr>\n",
       "    <tr>\n",
       "      <th>3</th>\n",
       "      <td>['SEMI-SUPERVISED HIERARCHICAL DRUG EMBEDDING ...</td>\n",
       "      <td>{'Author': '', 'CreationDate': 'D:202006020057...</td>\n",
       "    </tr>\n",
       "    <tr>\n",
       "      <th>4</th>\n",
       "      <td>['IEEE/ACM TRANSACTIONS ON COMPUTATIONAL BIOLO...</td>\n",
       "      <td>{'Author': '', 'CreationDate': 'D:201805220140...</td>\n",
       "    </tr>\n",
       "  </tbody>\n",
       "</table>\n",
       "</div>"
      ],
      "text/plain": [
       "                                            pdf_text  \\\n",
       "0  ['NATURAL CALCIUM CARBONATE FOR BIOMEDICAL APP...   \n",
       "1  ['Hyperbolic Molecular Representation Learning...   \n",
       "2  ['4202 peS 81 ]YS.ssee[ 1v21711.9042:viXra Rev...   \n",
       "3  ['SEMI-SUPERVISED HIERARCHICAL DRUG EMBEDDING ...   \n",
       "4  ['IEEE/ACM TRANSACTIONS ON COMPUTATIONAL BIOLO...   \n",
       "\n",
       "                                            metadata  \n",
       "0  {'Author': 'ismail - [2010]', 'Creator': 'Micr...  \n",
       "1  {'Author': '', 'CreationDate': 'D:202208150023...  \n",
       "2  {'Producer': 'GPL Ghostscript 10.01.2', 'Creat...  \n",
       "3  {'Author': '', 'CreationDate': 'D:202006020057...  \n",
       "4  {'Author': '', 'CreationDate': 'D:201805220140...  "
      ]
     },
     "execution_count": 25,
     "metadata": {},
     "output_type": "execute_result"
    }
   ],
   "source": [
    "df_cleaned.head()"
   ]
  },
  {
   "cell_type": "code",
   "execution_count": 26,
   "id": "a1f3b02f",
   "metadata": {},
   "outputs": [
    {
     "data": {
      "text/html": [
       "<div>\n",
       "<style scoped>\n",
       "    .dataframe tbody tr th:only-of-type {\n",
       "        vertical-align: middle;\n",
       "    }\n",
       "\n",
       "    .dataframe tbody tr th {\n",
       "        vertical-align: top;\n",
       "    }\n",
       "\n",
       "    .dataframe thead th {\n",
       "        text-align: right;\n",
       "    }\n",
       "</style>\n",
       "<table border=\"1\" class=\"dataframe\">\n",
       "  <thead>\n",
       "    <tr style=\"text-align: right;\">\n",
       "      <th></th>\n",
       "      <th>pdf_text</th>\n",
       "      <th>metadata</th>\n",
       "    </tr>\n",
       "  </thead>\n",
       "  <tbody>\n",
       "    <tr>\n",
       "      <th>974</th>\n",
       "      <td>['BioT5: Enriching Cross-modal Integration in ...</td>\n",
       "      <td>{'Author': '', 'CreationDate': 'D:202401300228...</td>\n",
       "    </tr>\n",
       "    <tr>\n",
       "      <th>975</th>\n",
       "      <td>['Unsupervised Learning of Molecular Embedding...</td>\n",
       "      <td>{'Author': '', 'CreationDate': 'D:202310310105...</td>\n",
       "    </tr>\n",
       "    <tr>\n",
       "      <th>976</th>\n",
       "      <td>['Published at the MLDD workshop, ICLR 2023 MU...</td>\n",
       "      <td>{'Author': '', 'CreationDate': 'D:202311210211...</td>\n",
       "    </tr>\n",
       "    <tr>\n",
       "      <th>977</th>\n",
       "      <td>['Preprint. Under review. PROTEIN-LIGAND BINDI...</td>\n",
       "      <td>{'Author': '', 'CreationDate': 'D:202311290215...</td>\n",
       "    </tr>\n",
       "    <tr>\n",
       "      <th>978</th>\n",
       "      <td>['Learning immune receptor representations wit...</td>\n",
       "      <td>{'Title': 'PLM_review_arxiv', 'Producer': 'Ski...</td>\n",
       "    </tr>\n",
       "  </tbody>\n",
       "</table>\n",
       "</div>"
      ],
      "text/plain": [
       "                                              pdf_text  \\\n",
       "974  ['BioT5: Enriching Cross-modal Integration in ...   \n",
       "975  ['Unsupervised Learning of Molecular Embedding...   \n",
       "976  ['Published at the MLDD workshop, ICLR 2023 MU...   \n",
       "977  ['Preprint. Under review. PROTEIN-LIGAND BINDI...   \n",
       "978  ['Learning immune receptor representations wit...   \n",
       "\n",
       "                                              metadata  \n",
       "974  {'Author': '', 'CreationDate': 'D:202401300228...  \n",
       "975  {'Author': '', 'CreationDate': 'D:202310310105...  \n",
       "976  {'Author': '', 'CreationDate': 'D:202311210211...  \n",
       "977  {'Author': '', 'CreationDate': 'D:202311290215...  \n",
       "978  {'Title': 'PLM_review_arxiv', 'Producer': 'Ski...  "
      ]
     },
     "execution_count": 26,
     "metadata": {},
     "output_type": "execute_result"
    }
   ],
   "source": [
    "df_cleaned.tail()"
   ]
  },
  {
   "cell_type": "code",
   "execution_count": 27,
   "id": "0d86edba",
   "metadata": {},
   "outputs": [],
   "source": [
    "df_cleaned.to_csv(\"extracted_pdf_info.csv\", index=False)"
   ]
  },
  {
   "cell_type": "code",
   "execution_count": null,
   "id": "69ea2986",
   "metadata": {},
   "outputs": [],
   "source": []
  }
 ],
 "metadata": {
  "kernelspec": {
   "display_name": "base",
   "language": "python",
   "name": "python3"
  },
  "language_info": {
   "codemirror_mode": {
    "name": "ipython",
    "version": 3
   },
   "file_extension": ".py",
   "mimetype": "text/x-python",
   "name": "python",
   "nbconvert_exporter": "python",
   "pygments_lexer": "ipython3",
   "version": "3.12.3"
  }
 },
 "nbformat": 4,
 "nbformat_minor": 5
}
