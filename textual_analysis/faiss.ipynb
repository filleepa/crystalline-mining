{
 "cells": [
  {
   "cell_type": "code",
   "execution_count": 2,
   "id": "64f3ab30",
   "metadata": {},
   "outputs": [],
   "source": [
    "import faiss\n",
    "from joblib import load"
   ]
  },
  {
   "cell_type": "code",
   "execution_count": 8,
   "id": "b005b41e",
   "metadata": {},
   "outputs": [],
   "source": [
    "embeddings = load(\"BERTopic_embeddings.npy\")"
   ]
  },
  {
   "cell_type": "code",
   "execution_count": 11,
   "id": "782ad43d",
   "metadata": {},
   "outputs": [
    {
     "data": {
      "text/plain": [
       "384"
      ]
     },
     "execution_count": 11,
     "metadata": {},
     "output_type": "execute_result"
    }
   ],
   "source": [
    "d = embeddings.shape[1]\n",
    "d"
   ]
  },
  {
   "cell_type": "code",
   "execution_count": 13,
   "id": "642cc379",
   "metadata": {},
   "outputs": [
    {
     "data": {
      "text/plain": [
       "True"
      ]
     },
     "execution_count": 13,
     "metadata": {},
     "output_type": "execute_result"
    }
   ],
   "source": [
    "index = faiss.IndexFlatL2(d)\n",
    "index.is_trained"
   ]
  },
  {
   "cell_type": "code",
   "execution_count": 14,
   "id": "72f2fec2",
   "metadata": {},
   "outputs": [
    {
     "data": {
      "text/plain": [
       "979"
      ]
     },
     "execution_count": 14,
     "metadata": {},
     "output_type": "execute_result"
    }
   ],
   "source": [
    "index.add(embeddings)\n",
    "index.ntotal"
   ]
  },
  {
   "cell_type": "code",
   "execution_count": 17,
   "id": "b60b67da",
   "metadata": {},
   "outputs": [],
   "source": [
    "from sentence_transformers import SentenceTransformer\n",
    "model = SentenceTransformer(\"all-MiniLM-L6-v2\")"
   ]
  },
  {
   "cell_type": "code",
   "execution_count": 18,
   "id": "848ee5a1",
   "metadata": {},
   "outputs": [],
   "source": [
    "# search given a query (xq) and number of nearest neighbours to return (k)\n",
    "k = 4\n",
    "xq = model.encode([\"Using Raman analysis on crystallization\"])"
   ]
  },
  {
   "cell_type": "markdown",
   "id": "8061a8ae",
   "metadata": {},
   "source": [
    "## Generating Cluster Summaries"
   ]
  },
  {
   "cell_type": "code",
   "execution_count": 22,
   "id": "058e021e",
   "metadata": {},
   "outputs": [],
   "source": [
    "topic_model = load(\"BERTopic_model.pkl\")"
   ]
  },
  {
   "cell_type": "code",
   "execution_count": 28,
   "id": "ba5709ab",
   "metadata": {},
   "outputs": [
    {
     "data": {
      "text/html": [
       "<div>\n",
       "<style scoped>\n",
       "    .dataframe tbody tr th:only-of-type {\n",
       "        vertical-align: middle;\n",
       "    }\n",
       "\n",
       "    .dataframe tbody tr th {\n",
       "        vertical-align: top;\n",
       "    }\n",
       "\n",
       "    .dataframe thead th {\n",
       "        text-align: right;\n",
       "    }\n",
       "</style>\n",
       "<table border=\"1\" class=\"dataframe\">\n",
       "  <thead>\n",
       "    <tr style=\"text-align: right;\">\n",
       "      <th></th>\n",
       "      <th>Topic</th>\n",
       "      <th>Count</th>\n",
       "      <th>Name</th>\n",
       "      <th>CustomName</th>\n",
       "      <th>Representation</th>\n",
       "      <th>Representative_Docs</th>\n",
       "    </tr>\n",
       "  </thead>\n",
       "  <tbody>\n",
       "    <tr>\n",
       "      <th>0</th>\n",
       "      <td>0</td>\n",
       "      <td>96</td>\n",
       "      <td>0_ligand_protein_docking_model</td>\n",
       "      <td>Ligand-Protein Docking</td>\n",
       "      <td>[ligand, protein, docking, model, structure, s...</td>\n",
       "      <td>[Protein Ligand Complex Generator Drug Screeni...</td>\n",
       "    </tr>\n",
       "    <tr>\n",
       "      <th>1</th>\n",
       "      <td>1</td>\n",
       "      <td>94</td>\n",
       "      <td>1_drug_data_drugs_model</td>\n",
       "      <td>Drug Data Modeling</td>\n",
       "      <td>[drug, data, drugs, model, network, informatio...</td>\n",
       "      <td>[Drug Interaction Vectors Neural Network DrIVe...</td>\n",
       "    </tr>\n",
       "    <tr>\n",
       "      <th>2</th>\n",
       "      <td>2</td>\n",
       "      <td>81</td>\n",
       "      <td>2_molecules_molecule_generation_model</td>\n",
       "      <td>Molecular Generation &amp; Optimization</td>\n",
       "      <td>[molecules, molecule, generation, model, optim...</td>\n",
       "      <td>[Equivariant Representation Molecule Generatio...</td>\n",
       "    </tr>\n",
       "    <tr>\n",
       "      <th>3</th>\n",
       "      <td>3</td>\n",
       "      <td>80</td>\n",
       "      <td>3_molecules_diffusion_molecule_ligand</td>\n",
       "      <td>Diffusion-Based Molecular Design</td>\n",
       "      <td>[molecules, diffusion, molecule, ligand, desig...</td>\n",
       "      <td>[Structure Drug Design Equivariant Diffusion M...</td>\n",
       "    </tr>\n",
       "    <tr>\n",
       "      <th>4</th>\n",
       "      <td>4</td>\n",
       "      <td>79</td>\n",
       "      <td>4_graph_graphs_learning_molecules</td>\n",
       "      <td>Graph-Based Molecular Learning</td>\n",
       "      <td>[graph, graphs, learning, molecules, molecule,...</td>\n",
       "      <td>[Training Molecular Property Prediction Wang H...</td>\n",
       "    </tr>\n",
       "    <tr>\n",
       "      <th>5</th>\n",
       "      <td>5</td>\n",
       "      <td>72</td>\n",
       "      <td>5_drug_graph_prediction_target</td>\n",
       "      <td>Drug-Target Graph Prediction</td>\n",
       "      <td>[drug, graph, prediction, target, learning, mo...</td>\n",
       "      <td>[Graph Small Molecule Drug Discovery Deep Lear...</td>\n",
       "    </tr>\n",
       "    <tr>\n",
       "      <th>6</th>\n",
       "      <td>6</td>\n",
       "      <td>66</td>\n",
       "      <td>6_model_models_learning_drug</td>\n",
       "      <td>Machine Learning for Drug Molecules</td>\n",
       "      <td>[model, models, learning, drug, molecule, data...</td>\n",
       "      <td>[QSAR Auto Tool Molecular Property Prediction ...</td>\n",
       "    </tr>\n",
       "    <tr>\n",
       "      <th>7</th>\n",
       "      <td>7</td>\n",
       "      <td>64</td>\n",
       "      <td>7_value_graph_drug_information</td>\n",
       "      <td>Drug Value in Molecular Networks</td>\n",
       "      <td>[value, graph, drug, information, network, nod...</td>\n",
       "      <td>[Graph Contrastive Representation Learning Dru...</td>\n",
       "    </tr>\n",
       "    <tr>\n",
       "      <th>8</th>\n",
       "      <td>8</td>\n",
       "      <td>64</td>\n",
       "      <td>8_protein_network_drug_ligand</td>\n",
       "      <td>Protein-Ligand Interaction Networks</td>\n",
       "      <td>[protein, network, drug, ligand, target, struc...</td>\n",
       "      <td>[Target Variational Auto encoders Ligand Gener...</td>\n",
       "    </tr>\n",
       "    <tr>\n",
       "      <th>9</th>\n",
       "      <td>9</td>\n",
       "      <td>63</td>\n",
       "      <td>9_cancer_cell_drug_cells</td>\n",
       "      <td>Cancer Cell Drug Modeling</td>\n",
       "      <td>[cancer, cell, drug, cells, drugs, model, line...</td>\n",
       "      <td>[Drug Combination Prediction Integrating Multi...</td>\n",
       "    </tr>\n",
       "    <tr>\n",
       "      <th>10</th>\n",
       "      <td>10</td>\n",
       "      <td>59</td>\n",
       "      <td>10_water_membrane_phase_lipid</td>\n",
       "      <td>Lipid Membrane Phase Behavior</td>\n",
       "      <td>[water, membrane, phase, lipid, particle, rele...</td>\n",
       "      <td>[Nanopore nanoparticle formation lipids phase ...</td>\n",
       "    </tr>\n",
       "    <tr>\n",
       "      <th>11</th>\n",
       "      <td>11</td>\n",
       "      <td>51</td>\n",
       "      <td>11_materials_mofs_temperature_energy</td>\n",
       "      <td>MOF Materials &amp; Thermal Properties</td>\n",
       "      <td>[materials, mofs, temperature, energy, surface...</td>\n",
       "      <td>[REVIEW ARTICLE throughput screening materials...</td>\n",
       "    </tr>\n",
       "    <tr>\n",
       "      <th>12</th>\n",
       "      <td>12</td>\n",
       "      <td>51</td>\n",
       "      <td>12_protein_structure_sequence_proteins</td>\n",
       "      <td>Protein Structure &amp; Sequence Analysis</td>\n",
       "      <td>[protein, structure, sequence, proteins, struc...</td>\n",
       "      <td>[PROTEIN LANGUAGE MODELS KNOWLEDGE PREPRINT De...</td>\n",
       "    </tr>\n",
       "    <tr>\n",
       "      <th>13</th>\n",
       "      <td>13</td>\n",
       "      <td>32</td>\n",
       "      <td>13_sars_virus_infection_protein</td>\n",
       "      <td>SARS/Coronavirus Infection Mechanisms</td>\n",
       "      <td>[sars, virus, infection, protein, proteins, co...</td>\n",
       "      <td>[Coronavirus SARS Analysis transcription CLpro...</td>\n",
       "    </tr>\n",
       "    <tr>\n",
       "      <th>14</th>\n",
       "      <td>14</td>\n",
       "      <td>27</td>\n",
       "      <td>14_quantum_energy_properties_atoms</td>\n",
       "      <td>Quantum Molecular Properties</td>\n",
       "      <td>[quantum, energy, properties, atoms, molecules...</td>\n",
       "      <td>[Prediction Free Solvation Energy Organic Mole...</td>\n",
       "    </tr>\n",
       "  </tbody>\n",
       "</table>\n",
       "</div>"
      ],
      "text/plain": [
       "    Topic  Count                                    Name  \\\n",
       "0       0     96          0_ligand_protein_docking_model   \n",
       "1       1     94                 1_drug_data_drugs_model   \n",
       "2       2     81   2_molecules_molecule_generation_model   \n",
       "3       3     80   3_molecules_diffusion_molecule_ligand   \n",
       "4       4     79       4_graph_graphs_learning_molecules   \n",
       "5       5     72          5_drug_graph_prediction_target   \n",
       "6       6     66            6_model_models_learning_drug   \n",
       "7       7     64          7_value_graph_drug_information   \n",
       "8       8     64           8_protein_network_drug_ligand   \n",
       "9       9     63                9_cancer_cell_drug_cells   \n",
       "10     10     59           10_water_membrane_phase_lipid   \n",
       "11     11     51    11_materials_mofs_temperature_energy   \n",
       "12     12     51  12_protein_structure_sequence_proteins   \n",
       "13     13     32         13_sars_virus_infection_protein   \n",
       "14     14     27      14_quantum_energy_properties_atoms   \n",
       "\n",
       "                               CustomName  \\\n",
       "0                  Ligand-Protein Docking   \n",
       "1                      Drug Data Modeling   \n",
       "2     Molecular Generation & Optimization   \n",
       "3        Diffusion-Based Molecular Design   \n",
       "4          Graph-Based Molecular Learning   \n",
       "5            Drug-Target Graph Prediction   \n",
       "6     Machine Learning for Drug Molecules   \n",
       "7        Drug Value in Molecular Networks   \n",
       "8     Protein-Ligand Interaction Networks   \n",
       "9               Cancer Cell Drug Modeling   \n",
       "10          Lipid Membrane Phase Behavior   \n",
       "11     MOF Materials & Thermal Properties   \n",
       "12  Protein Structure & Sequence Analysis   \n",
       "13  SARS/Coronavirus Infection Mechanisms   \n",
       "14           Quantum Molecular Properties   \n",
       "\n",
       "                                       Representation  \\\n",
       "0   [ligand, protein, docking, model, structure, s...   \n",
       "1   [drug, data, drugs, model, network, informatio...   \n",
       "2   [molecules, molecule, generation, model, optim...   \n",
       "3   [molecules, diffusion, molecule, ligand, desig...   \n",
       "4   [graph, graphs, learning, molecules, molecule,...   \n",
       "5   [drug, graph, prediction, target, learning, mo...   \n",
       "6   [model, models, learning, drug, molecule, data...   \n",
       "7   [value, graph, drug, information, network, nod...   \n",
       "8   [protein, network, drug, ligand, target, struc...   \n",
       "9   [cancer, cell, drug, cells, drugs, model, line...   \n",
       "10  [water, membrane, phase, lipid, particle, rele...   \n",
       "11  [materials, mofs, temperature, energy, surface...   \n",
       "12  [protein, structure, sequence, proteins, struc...   \n",
       "13  [sars, virus, infection, protein, proteins, co...   \n",
       "14  [quantum, energy, properties, atoms, molecules...   \n",
       "\n",
       "                                  Representative_Docs  \n",
       "0   [Protein Ligand Complex Generator Drug Screeni...  \n",
       "1   [Drug Interaction Vectors Neural Network DrIVe...  \n",
       "2   [Equivariant Representation Molecule Generatio...  \n",
       "3   [Structure Drug Design Equivariant Diffusion M...  \n",
       "4   [Training Molecular Property Prediction Wang H...  \n",
       "5   [Graph Small Molecule Drug Discovery Deep Lear...  \n",
       "6   [QSAR Auto Tool Molecular Property Prediction ...  \n",
       "7   [Graph Contrastive Representation Learning Dru...  \n",
       "8   [Target Variational Auto encoders Ligand Gener...  \n",
       "9   [Drug Combination Prediction Integrating Multi...  \n",
       "10  [Nanopore nanoparticle formation lipids phase ...  \n",
       "11  [REVIEW ARTICLE throughput screening materials...  \n",
       "12  [PROTEIN LANGUAGE MODELS KNOWLEDGE PREPRINT De...  \n",
       "13  [Coronavirus SARS Analysis transcription CLpro...  \n",
       "14  [Prediction Free Solvation Energy Organic Mole...  "
      ]
     },
     "execution_count": 28,
     "metadata": {},
     "output_type": "execute_result"
    }
   ],
   "source": [
    "topic_model.get_topic_info()"
   ]
  },
  {
   "cell_type": "code",
   "execution_count": 21,
   "id": "55aea378",
   "metadata": {},
   "outputs": [
    {
     "data": {
      "application/vnd.jupyter.widget-view+json": {
       "model_id": "3a5c9fb331be4d69b8c2a6988d8ed607",
       "version_major": 2,
       "version_minor": 0
      },
      "text/plain": [
       "config.json: 0.00B [00:00, ?B/s]"
      ]
     },
     "metadata": {},
     "output_type": "display_data"
    },
    {
     "name": "stderr",
     "output_type": "stream",
     "text": [
      "Xet Storage is enabled for this repo, but the 'hf_xet' package is not installed. Falling back to regular HTTP download. For better performance, install the package with: `pip install huggingface_hub[hf_xet]` or `pip install hf_xet`\n"
     ]
    },
    {
     "data": {
      "application/vnd.jupyter.widget-view+json": {
       "model_id": "e2e9a06641e74a9898b4bef9883a0a20",
       "version_major": 2,
       "version_minor": 0
      },
      "text/plain": [
       "model.safetensors:   0%|          | 0.00/1.63G [00:00<?, ?B/s]"
      ]
     },
     "metadata": {},
     "output_type": "display_data"
    },
    {
     "data": {
      "application/vnd.jupyter.widget-view+json": {
       "model_id": "b398f7851f294e8bb3511dd1a63c81ba",
       "version_major": 2,
       "version_minor": 0
      },
      "text/plain": [
       "generation_config.json:   0%|          | 0.00/363 [00:00<?, ?B/s]"
      ]
     },
     "metadata": {},
     "output_type": "display_data"
    },
    {
     "data": {
      "application/vnd.jupyter.widget-view+json": {
       "model_id": "8deaabefd4e441e1ae3cbf09029f69e8",
       "version_major": 2,
       "version_minor": 0
      },
      "text/plain": [
       "vocab.json: 0.00B [00:00, ?B/s]"
      ]
     },
     "metadata": {},
     "output_type": "display_data"
    },
    {
     "data": {
      "application/vnd.jupyter.widget-view+json": {
       "model_id": "273e4f14ecc64bd89c52ec6b32e0db19",
       "version_major": 2,
       "version_minor": 0
      },
      "text/plain": [
       "merges.txt: 0.00B [00:00, ?B/s]"
      ]
     },
     "metadata": {},
     "output_type": "display_data"
    },
    {
     "data": {
      "application/vnd.jupyter.widget-view+json": {
       "model_id": "ba9a008fd7e84b58bfd3f957b7cab7f9",
       "version_major": 2,
       "version_minor": 0
      },
      "text/plain": [
       "tokenizer.json: 0.00B [00:00, ?B/s]"
      ]
     },
     "metadata": {},
     "output_type": "display_data"
    },
    {
     "name": "stderr",
     "output_type": "stream",
     "text": [
      "Device set to use cuda:0\n"
     ]
    }
   ],
   "source": [
    "from transformers import pipeline\n",
    "summarizer = pipeline(\"summarization\", model=\"facebook/bart-large-cnn\")"
   ]
  },
  {
   "cell_type": "code",
   "execution_count": null,
   "id": "1834eee9",
   "metadata": {},
   "outputs": [],
   "source": []
  }
 ],
 "metadata": {
  "kernelspec": {
   "display_name": "base",
   "language": "python",
   "name": "python3"
  },
  "language_info": {
   "codemirror_mode": {
    "name": "ipython",
    "version": 3
   },
   "file_extension": ".py",
   "mimetype": "text/x-python",
   "name": "python",
   "nbconvert_exporter": "python",
   "pygments_lexer": "ipython3",
   "version": "3.12.3"
  }
 },
 "nbformat": 4,
 "nbformat_minor": 5
}
